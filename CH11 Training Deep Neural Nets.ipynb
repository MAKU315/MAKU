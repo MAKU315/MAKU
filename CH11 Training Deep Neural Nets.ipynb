{
 "cells": [
  {
   "cell_type": "markdown",
   "metadata": {},
   "source": [
    "He initialization considers only the fan-in, not the average between fan-in and fan-out like\n",
    "in Xavier initialization. This is also the default for the variance_scaling_initializer()\n",
    "function, but you can change this by setting the argument mode=\"FAN_AVG\".\n"
   ]
  },
  {
   "cell_type": "markdown",
   "metadata": {},
   "source": [
    "# Nonsaturating Activation Function\n",
    "\n",
    "ReLu > sigmoid : fast and not saturate\n"
   ]
  }
 ],
 "metadata": {
  "kernelspec": {
   "display_name": "Python 3",
   "language": "python",
   "name": "python3"
  },
  "language_info": {
   "codemirror_mode": {
    "name": "ipython",
    "version": 3
   },
   "file_extension": ".py",
   "mimetype": "text/x-python",
   "name": "python",
   "nbconvert_exporter": "python",
   "pygments_lexer": "ipython3",
   "version": "3.6.3"
  }
 },
 "nbformat": 4,
 "nbformat_minor": 2
}
