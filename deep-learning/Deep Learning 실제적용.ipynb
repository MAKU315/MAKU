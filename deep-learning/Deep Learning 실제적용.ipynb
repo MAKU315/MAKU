{
 "cells": [
  {
   "cell_type": "markdown",
   "metadata": {},
   "source": [
    "# Import library and Data"
   ]
  },
  {
   "cell_type": "code",
   "execution_count": 1,
   "metadata": {
    "collapsed": true
   },
   "outputs": [],
   "source": [
    "import tensorflow as tf\n",
    "from scipy.io import loadmat\n",
    "import matplotlib.pyplot as plt\n",
    "import numpy as np\n",
    "from sklearn.linear_model import Lasso \n",
    "from sklearn.metrics import mean_squared_error \n",
    "from sklearn.model_selection import train_test_split\n",
    "\n",
    "from sklearn import datasets\n",
    "from sklearn.pipeline import Pipeline\n",
    "from sklearn.preprocessing import StandardScaler \n",
    "from sklearn.svm import LinearSVC\n",
    "from sklearn.metrics import accuracy_score\n",
    "\n",
    "from sklearn.model_selection import cross_val_score \n",
    "#scores = cross_val_score(tree_reg, housing_prepared, housing_labels,\n",
    "#                         scoring=\"neg_mean_squared_error\", cv=10)\n",
    "\n",
    "#rmse_scores = np.sqrt(-scores)\n",
    "\n",
    "import tensorflow as tf\n",
    "from scipy.io import loadmat\n",
    "import matplotlib.pyplot as plt\n",
    "import numpy as np\n",
    "from sklearn.linear_model import Lasso \n",
    "from sklearn.metrics import mean_squared_error \n",
    "from sklearn.model_selection import train_test_split\n",
    "\n",
    "from sklearn import datasets\n",
    "from sklearn.pipeline import Pipeline\n",
    "from sklearn.preprocessing import StandardScaler \n",
    "from sklearn.svm import LinearSVC\n",
    "\n",
    "from sklearn.model_selection import LeaveOneGroupOut\n",
    "from sklearn.model_selection import cross_val_score \n",
    "#scores = cross_val_score(tree_reg, housing_prepared, housing_labels,\n",
    "#                         scoring=\"neg_mean_squared_error\", cv=10)\n",
    "\n",
    "#rmse_scores = np.sqrt(-scores)\n",
    "\n",
    "\n",
    "\n",
    "from sklearn.pipeline import Pipeline \n",
    "from sklearn.preprocessing import PolynomialFeatures\n",
    "from sklearn.svm import SVC\n",
    "\n",
    "\n",
    "from sklearn.metrics import mean_squared_error\n",
    "\n",
    "from sklearn.metrics import accuracy_score\n",
    "\n",
    "from sklearn.pipeline import Pipeline \n",
    "from sklearn.preprocessing import PolynomialFeatures\n",
    "from sklearn.svm import SVC\n",
    "\n",
    "\n",
    "from sklearn.metrics import mean_squared_error\n",
    "\n",
    "from sklearn.metrics import accuracy_score"
   ]
  },
  {
   "cell_type": "code",
   "execution_count": 2,
   "metadata": {},
   "outputs": [
    {
     "data": {
      "text/plain": [
       "7"
      ]
     },
     "execution_count": 2,
     "metadata": {},
     "output_type": "execute_result"
    }
   ],
   "source": [
    "file_name = \"BRI641_fMRI_data_new_sets.mat\"\n",
    "rawdata = loadmat(file_name)\n",
    "\n",
    "len(rawdata)"
   ]
  },
  {
   "cell_type": "markdown",
   "metadata": {},
   "source": [
    "The mat data file is loaded using the function loadmat()"
   ]
  },
  {
   "cell_type": "markdown",
   "metadata": {},
   "source": [
    "# Check the Data\n",
    "\n",
    "and then we need to check the data structure.\n"
   ]
  },
  {
   "cell_type": "code",
   "execution_count": 15,
   "metadata": {},
   "outputs": [
    {
     "name": "stdout",
     "output_type": "stream",
     "text": [
      "{'data_1d_x': array([[-0.03519887, -0.19054532, -0.7751938 , ...,  0.82167444,\n",
      "        -0.15327348,  0.70570284],\n",
      "       [-0.50451719, -0.55348879, -0.7751938 , ..., -0.06662225,\n",
      "        -0.15327348,  0.32424185],\n",
      "       [-0.03519887, -0.19054532, -0.36175711, ..., -0.06662225,\n",
      "        -0.15327348, -0.05721915],\n",
      "       ..., \n",
      "       [-0.19350239, -0.34979951, -0.46656299, ..., -0.02357934,\n",
      "        -0.86529217, -1.40392241],\n",
      "       [-0.19350239,  0.33273611,  0.26530052, ...,  0.29081192,\n",
      "        -0.86529217, -0.54656521],\n",
      "       [-1.00824931, -1.03233512, -0.83249474, ...,  0.29081192,\n",
      "        -0.86529217, -1.40392241]]), 'data_y': array([[0],\n",
      "       [0],\n",
      "       [0],\n",
      "       ..., \n",
      "       [3],\n",
      "       [3],\n",
      "       [3]], dtype=uint8), 'vMsk': array([[   340],\n",
      "       [   392],\n",
      "       [   393],\n",
      "       ..., \n",
      "       [151974],\n",
      "       [151983],\n",
      "       [152035]]), '__version__': '1.0', 'data_3d_x': array([[[[ 0.,  0.,  0., ...,  0.,  0.,  0.],\n",
      "         [ 0.,  0.,  0., ...,  0.,  0.,  0.],\n",
      "         [ 0.,  0.,  0., ...,  0.,  0.,  0.],\n",
      "         ..., \n",
      "         [ 0.,  0.,  0., ...,  0.,  0.,  0.],\n",
      "         [ 0.,  0.,  0., ...,  0.,  0.,  0.],\n",
      "         [ 0.,  0.,  0., ...,  0.,  0.,  0.]],\n",
      "\n",
      "        [[ 0.,  0.,  0., ...,  0.,  0.,  0.],\n",
      "         [ 0.,  0.,  0., ...,  0.,  0.,  0.],\n",
      "         [ 0.,  0.,  0., ...,  0.,  0.,  0.],\n",
      "         ..., \n",
      "         [ 0.,  0.,  0., ...,  0.,  0.,  0.],\n",
      "         [ 0.,  0.,  0., ...,  0.,  0.,  0.],\n",
      "         [ 0.,  0.,  0., ...,  0.,  0.,  0.]]]]), '__header__': b'MATLAB 5.0 MAT-file, Platform: PCWIN64, Created on: Tue Dec  5 14:50:56 2017', '__globals__': []}\n"
     ]
    }
   ],
   "source": [
    "print(rawdata)\n"
   ]
  },
  {
   "cell_type": "markdown",
   "metadata": {},
   "source": [
    "This data consists of three main parts.\n",
    "\n",
    "1. data_1d_x : 1440 * 74484\n",
    "\n",
    "2. data_3d_x & Vmsk  : 53 * 63 * 46 * 1440\n",
    "\n",
    "3. y : Dependent Variable : 1440 * 1"
   ]
  },
  {
   "cell_type": "code",
   "execution_count": 16,
   "metadata": {},
   "outputs": [
    {
     "name": "stdout",
     "output_type": "stream",
     "text": [
      "(53, 63, 46, 1440)\n"
     ]
    }
   ],
   "source": [
    "#print(rawdata[\"data_3d_x\"])\n",
    "print(rawdata[\"data_3d_x\"].shape)"
   ]
  },
  {
   "cell_type": "code",
   "execution_count": 17,
   "metadata": {},
   "outputs": [
    {
     "name": "stdout",
     "output_type": "stream",
     "text": [
      "[[-0.03519887 -0.19054532 -0.7751938  ...,  0.82167444 -0.15327348\n",
      "   0.70570284]\n",
      " [-0.50451719 -0.55348879 -0.7751938  ..., -0.06662225 -0.15327348\n",
      "   0.32424185]\n",
      " [-0.03519887 -0.19054532 -0.36175711 ..., -0.06662225 -0.15327348\n",
      "  -0.05721915]\n",
      " ..., \n",
      " [-0.19350239 -0.34979951 -0.46656299 ..., -0.02357934 -0.86529217\n",
      "  -1.40392241]\n",
      " [-0.19350239  0.33273611  0.26530052 ...,  0.29081192 -0.86529217\n",
      "  -0.54656521]\n",
      " [-1.00824931 -1.03233512 -0.83249474 ...,  0.29081192 -0.86529217\n",
      "  -1.40392241]]\n",
      "(1440, 74484)\n"
     ]
    }
   ],
   "source": [
    "print(rawdata[\"data_1d_x\"])\n",
    "print(rawdata[\"data_1d_x\"].shape)"
   ]
  },
  {
   "cell_type": "code",
   "execution_count": 18,
   "metadata": {},
   "outputs": [
    {
     "name": "stdout",
     "output_type": "stream",
     "text": [
      "[[0]\n",
      " [0]\n",
      " [0]\n",
      " ..., \n",
      " [3]\n",
      " [3]\n",
      " [3]]\n",
      "(1440, 1)\n"
     ]
    }
   ],
   "source": [
    "print(rawdata[\"data_y\"])\n",
    "print(rawdata[\"data_y\"].shape)"
   ]
  },
  {
   "cell_type": "code",
   "execution_count": 19,
   "metadata": {
    "scrolled": false
   },
   "outputs": [
    {
     "name": "stdout",
     "output_type": "stream",
     "text": [
      "[[   340]\n",
      " [   392]\n",
      " [   393]\n",
      " ..., \n",
      " [151974]\n",
      " [151983]\n",
      " [152035]]\n",
      "(74484, 1)\n"
     ]
    }
   ],
   "source": [
    "print(rawdata[\"vMsk\"])\n",
    "print(rawdata[\"vMsk\"].shape)"
   ]
  },
  {
   "cell_type": "markdown",
   "metadata": {},
   "source": [
    "I used data_1d_x data.\n",
    "\n",
    "In order to process LOOCV(Leave One Out Cross-Validation), \n",
    "\n",
    "we divided into 12 part(participants)used LeaveOneGruopOut() function.\n",
    "\n"
   ]
  },
  {
   "cell_type": "code",
   "execution_count": 3,
   "metadata": {},
   "outputs": [
    {
     "data": {
      "text/plain": [
       "12"
      ]
     },
     "execution_count": 3,
     "metadata": {},
     "output_type": "execute_result"
    }
   ],
   "source": [
    "X_data=rawdata[\"data_1d_x\"]\n",
    "y_data = (rawdata[\"data_y\"])\n",
    "\n",
    "\n",
    "groups = []\n",
    "for i in range(1,13):\n",
    "    group = [i] * 120\n",
    "    for i in group:\n",
    "        groups.append(i)\n",
    "LOOCV = LeaveOneGroupOut()\n",
    "LOOCV.get_n_splits(X_data,y_data, groups)\n"
   ]
  },
  {
   "cell_type": "markdown",
   "metadata": {},
   "source": [
    "# Setup"
   ]
  },
  {
   "cell_type": "code",
   "execution_count": 4,
   "metadata": {
    "collapsed": true
   },
   "outputs": [],
   "source": [
    "def reset_graph():  # initialize graph\n",
    "    tf.reset_default_graph()\n",
    "\n"
   ]
  },
  {
   "cell_type": "markdown",
   "metadata": {},
   "source": [
    "First , I applied SVM.\n",
    "\n",
    "1. SVM Polynomial Kernel\n",
    "\n",
    "\n",
    "# Polynomial kernel SVM\n",
    "\n",
    "I have considered two combinations of hyper Parameters.\n",
    "\n",
    "1. Degree =3 , coef0 =1 and C=5 : \n",
    "Degree means degree of polynomial kernel, so 3 - degree polynomial kernel in this option \n",
    "\n",
    "Coef0 controls how much the model is influenced by high degree polynomials vs low degree polynomials.\n",
    "\n",
    "smaller C leads to a wider street but more margin violations.  \n",
    "\n",
    "\n",
    "2. Degree =10 , coef0 =100 and C=5 : \n",
    "\n",
    "Degree means degree of polynomial kernel, so 10 - degree polynomial kernel in this option.\n",
    "\n",
    "I used the same values C as before."
   ]
  },
  {
   "cell_type": "code",
   "execution_count": 10,
   "metadata": {
    "scrolled": true
   },
   "outputs": [
    {
     "name": "stderr",
     "output_type": "stream",
     "text": [
      "C:\\Users\\user\\Anaconda3\\envs\\tensorflow\\lib\\site-packages\\sklearn\\utils\\validation.py:526: DataConversionWarning: A column-vector y was passed when a 1d array was expected. Please change the shape of y to (n_samples, ), for example using ravel().\n",
      "  y = column_or_1d(y, warn=True)\n"
     ]
    },
    {
     "name": "stdout",
     "output_type": "stream",
     "text": [
      "Train accuracy: 1.0 Test accuracy: 0.908333333333\n"
     ]
    },
    {
     "name": "stderr",
     "output_type": "stream",
     "text": [
      "C:\\Users\\user\\Anaconda3\\envs\\tensorflow\\lib\\site-packages\\sklearn\\utils\\validation.py:526: DataConversionWarning: A column-vector y was passed when a 1d array was expected. Please change the shape of y to (n_samples, ), for example using ravel().\n",
      "  y = column_or_1d(y, warn=True)\n"
     ]
    },
    {
     "name": "stdout",
     "output_type": "stream",
     "text": [
      "Train accuracy: 1.0 Test accuracy: 0.983333333333\n"
     ]
    },
    {
     "name": "stderr",
     "output_type": "stream",
     "text": [
      "C:\\Users\\user\\Anaconda3\\envs\\tensorflow\\lib\\site-packages\\sklearn\\utils\\validation.py:526: DataConversionWarning: A column-vector y was passed when a 1d array was expected. Please change the shape of y to (n_samples, ), for example using ravel().\n",
      "  y = column_or_1d(y, warn=True)\n"
     ]
    },
    {
     "name": "stdout",
     "output_type": "stream",
     "text": [
      "Train accuracy: 1.0 Test accuracy: 0.983333333333\n"
     ]
    },
    {
     "name": "stderr",
     "output_type": "stream",
     "text": [
      "C:\\Users\\user\\Anaconda3\\envs\\tensorflow\\lib\\site-packages\\sklearn\\utils\\validation.py:526: DataConversionWarning: A column-vector y was passed when a 1d array was expected. Please change the shape of y to (n_samples, ), for example using ravel().\n",
      "  y = column_or_1d(y, warn=True)\n"
     ]
    },
    {
     "name": "stdout",
     "output_type": "stream",
     "text": [
      "Train accuracy: 1.0 Test accuracy: 0.85\n"
     ]
    },
    {
     "name": "stderr",
     "output_type": "stream",
     "text": [
      "C:\\Users\\user\\Anaconda3\\envs\\tensorflow\\lib\\site-packages\\sklearn\\utils\\validation.py:526: DataConversionWarning: A column-vector y was passed when a 1d array was expected. Please change the shape of y to (n_samples, ), for example using ravel().\n",
      "  y = column_or_1d(y, warn=True)\n"
     ]
    },
    {
     "name": "stdout",
     "output_type": "stream",
     "text": [
      "Train accuracy: 1.0 Test accuracy: 0.908333333333\n"
     ]
    },
    {
     "name": "stderr",
     "output_type": "stream",
     "text": [
      "C:\\Users\\user\\Anaconda3\\envs\\tensorflow\\lib\\site-packages\\sklearn\\utils\\validation.py:526: DataConversionWarning: A column-vector y was passed when a 1d array was expected. Please change the shape of y to (n_samples, ), for example using ravel().\n",
      "  y = column_or_1d(y, warn=True)\n"
     ]
    },
    {
     "name": "stdout",
     "output_type": "stream",
     "text": [
      "Train accuracy: 1.0 Test accuracy: 0.958333333333\n"
     ]
    },
    {
     "name": "stderr",
     "output_type": "stream",
     "text": [
      "C:\\Users\\user\\Anaconda3\\envs\\tensorflow\\lib\\site-packages\\sklearn\\utils\\validation.py:526: DataConversionWarning: A column-vector y was passed when a 1d array was expected. Please change the shape of y to (n_samples, ), for example using ravel().\n",
      "  y = column_or_1d(y, warn=True)\n"
     ]
    },
    {
     "name": "stdout",
     "output_type": "stream",
     "text": [
      "Train accuracy: 1.0 Test accuracy: 0.991666666667\n"
     ]
    },
    {
     "name": "stderr",
     "output_type": "stream",
     "text": [
      "C:\\Users\\user\\Anaconda3\\envs\\tensorflow\\lib\\site-packages\\sklearn\\utils\\validation.py:526: DataConversionWarning: A column-vector y was passed when a 1d array was expected. Please change the shape of y to (n_samples, ), for example using ravel().\n",
      "  y = column_or_1d(y, warn=True)\n"
     ]
    },
    {
     "name": "stdout",
     "output_type": "stream",
     "text": [
      "Train accuracy: 1.0 Test accuracy: 0.975\n"
     ]
    },
    {
     "name": "stderr",
     "output_type": "stream",
     "text": [
      "C:\\Users\\user\\Anaconda3\\envs\\tensorflow\\lib\\site-packages\\sklearn\\utils\\validation.py:526: DataConversionWarning: A column-vector y was passed when a 1d array was expected. Please change the shape of y to (n_samples, ), for example using ravel().\n",
      "  y = column_or_1d(y, warn=True)\n"
     ]
    },
    {
     "name": "stdout",
     "output_type": "stream",
     "text": [
      "Train accuracy: 1.0 Test accuracy: 0.941666666667\n"
     ]
    },
    {
     "name": "stderr",
     "output_type": "stream",
     "text": [
      "C:\\Users\\user\\Anaconda3\\envs\\tensorflow\\lib\\site-packages\\sklearn\\utils\\validation.py:526: DataConversionWarning: A column-vector y was passed when a 1d array was expected. Please change the shape of y to (n_samples, ), for example using ravel().\n",
      "  y = column_or_1d(y, warn=True)\n"
     ]
    },
    {
     "name": "stdout",
     "output_type": "stream",
     "text": [
      "Train accuracy: 1.0 Test accuracy: 0.883333333333\n"
     ]
    },
    {
     "name": "stderr",
     "output_type": "stream",
     "text": [
      "C:\\Users\\user\\Anaconda3\\envs\\tensorflow\\lib\\site-packages\\sklearn\\utils\\validation.py:526: DataConversionWarning: A column-vector y was passed when a 1d array was expected. Please change the shape of y to (n_samples, ), for example using ravel().\n",
      "  y = column_or_1d(y, warn=True)\n"
     ]
    },
    {
     "name": "stdout",
     "output_type": "stream",
     "text": [
      "Train accuracy: 1.0 Test accuracy: 0.983333333333\n"
     ]
    },
    {
     "name": "stderr",
     "output_type": "stream",
     "text": [
      "C:\\Users\\user\\Anaconda3\\envs\\tensorflow\\lib\\site-packages\\sklearn\\utils\\validation.py:526: DataConversionWarning: A column-vector y was passed when a 1d array was expected. Please change the shape of y to (n_samples, ), for example using ravel().\n",
      "  y = column_or_1d(y, warn=True)\n"
     ]
    },
    {
     "name": "stdout",
     "output_type": "stream",
     "text": [
      "Train accuracy: 1.0 Test accuracy: 0.933333333333\n"
     ]
    }
   ],
   "source": [
    "clf = SVC()\n",
    "\n",
    "max_test = []\n",
    "for train_index, test_index in LOOCV.split(X_data, y_data, groups):\n",
    "    X_train, X_test = X_data[train_index], X_data[test_index]\n",
    "    y_train, y_test = y_data[train_index], y_data[test_index]\n",
    "\n",
    "    poly_kernel_svm_clf = Pipeline((\n",
    "            (\"scaler\", StandardScaler()),\n",
    "            (\"svm_clf\", SVC(kernel=\"poly\", degree=3, coef0=1, C=5))\n",
    "        ))\n",
    "    poly_kernel_svm_clf.fit(X_train, y_train)\n",
    "    poly_y_pred = poly_kernel_svm_clf.predict(X_train)\n",
    "    poly_acc_train = accuracy_score(y_train, poly_y_pred)\n",
    "    poly_y_pred = poly_kernel_svm_clf.predict(X_test)\n",
    "    poly_acc_test = accuracy_score(y_test, poly_y_pred)\n",
    "    \n",
    "    max_test.append(poly_acc_test)\n",
    "    print(\"Train accuracy:\", poly_acc_train, \"Test accuracy:\", poly_acc_test)\n",
    "    \n",
    "print(max_test) \n",
    "print(\"Mean Test accuracy: \", np.mean(max_test))"
   ]
  },
  {
   "cell_type": "markdown",
   "metadata": {},
   "source": [
    "In the first combination of hyperparameters in polynomial kernel, the accuracy of each LOOCV is as follows."
   ]
  },
  {
   "cell_type": "code",
   "execution_count": 11,
   "metadata": {
    "scrolled": true
   },
   "outputs": [
    {
     "name": "stdout",
     "output_type": "stream",
     "text": [
      "[0.90833333333333333, 0.98333333333333328, 0.98333333333333328, 0.84999999999999998, 0.90833333333333333, 0.95833333333333337, 0.9916666666666667, 0.97499999999999998, 0.94166666666666665, 0.8833333333333333, 0.98333333333333328, 0.93333333333333335]\n",
      "Mean Test accuracy:  0.941666666667\n"
     ]
    }
   ],
   "source": [
    "    \n",
    "print(max_test) \n",
    "print(\"Mean Test accuracy: \", np.mean(max_test))"
   ]
  },
  {
   "cell_type": "markdown",
   "metadata": {},
   "source": [
    "The first polynomial kernel SVM average accuracy of 12 parts is  0.9417"
   ]
  },
  {
   "cell_type": "markdown",
   "metadata": {},
   "source": [
    "In the Second combination of hyperparameters in polynomial kernel,\n",
    "\n",
    "the accuracy of each LOOCV is as follows."
   ]
  },
  {
   "cell_type": "code",
   "execution_count": 14,
   "metadata": {
    "scrolled": true
   },
   "outputs": [
    {
     "name": "stderr",
     "output_type": "stream",
     "text": [
      "C:\\Users\\user\\Anaconda3\\envs\\tensorflow\\lib\\site-packages\\sklearn\\utils\\validation.py:526: DataConversionWarning: A column-vector y was passed when a 1d array was expected. Please change the shape of y to (n_samples, ), for example using ravel().\n",
      "  y = column_or_1d(y, warn=True)\n"
     ]
    },
    {
     "name": "stdout",
     "output_type": "stream",
     "text": [
      "Train accuracy: 1.0 Test accuracy: 0.9\n"
     ]
    },
    {
     "name": "stderr",
     "output_type": "stream",
     "text": [
      "C:\\Users\\user\\Anaconda3\\envs\\tensorflow\\lib\\site-packages\\sklearn\\utils\\validation.py:526: DataConversionWarning: A column-vector y was passed when a 1d array was expected. Please change the shape of y to (n_samples, ), for example using ravel().\n",
      "  y = column_or_1d(y, warn=True)\n"
     ]
    },
    {
     "name": "stdout",
     "output_type": "stream",
     "text": [
      "Train accuracy: 1.0 Test accuracy: 0.966666666667\n"
     ]
    },
    {
     "name": "stderr",
     "output_type": "stream",
     "text": [
      "C:\\Users\\user\\Anaconda3\\envs\\tensorflow\\lib\\site-packages\\sklearn\\utils\\validation.py:526: DataConversionWarning: A column-vector y was passed when a 1d array was expected. Please change the shape of y to (n_samples, ), for example using ravel().\n",
      "  y = column_or_1d(y, warn=True)\n"
     ]
    },
    {
     "name": "stdout",
     "output_type": "stream",
     "text": [
      "Train accuracy: 1.0 Test accuracy: 1.0\n"
     ]
    },
    {
     "name": "stderr",
     "output_type": "stream",
     "text": [
      "C:\\Users\\user\\Anaconda3\\envs\\tensorflow\\lib\\site-packages\\sklearn\\utils\\validation.py:526: DataConversionWarning: A column-vector y was passed when a 1d array was expected. Please change the shape of y to (n_samples, ), for example using ravel().\n",
      "  y = column_or_1d(y, warn=True)\n"
     ]
    },
    {
     "name": "stdout",
     "output_type": "stream",
     "text": [
      "Train accuracy: 1.0 Test accuracy: 0.891666666667\n"
     ]
    },
    {
     "name": "stderr",
     "output_type": "stream",
     "text": [
      "C:\\Users\\user\\Anaconda3\\envs\\tensorflow\\lib\\site-packages\\sklearn\\utils\\validation.py:526: DataConversionWarning: A column-vector y was passed when a 1d array was expected. Please change the shape of y to (n_samples, ), for example using ravel().\n",
      "  y = column_or_1d(y, warn=True)\n"
     ]
    },
    {
     "name": "stdout",
     "output_type": "stream",
     "text": [
      "Train accuracy: 1.0 Test accuracy: 0.916666666667\n"
     ]
    },
    {
     "name": "stderr",
     "output_type": "stream",
     "text": [
      "C:\\Users\\user\\Anaconda3\\envs\\tensorflow\\lib\\site-packages\\sklearn\\utils\\validation.py:526: DataConversionWarning: A column-vector y was passed when a 1d array was expected. Please change the shape of y to (n_samples, ), for example using ravel().\n",
      "  y = column_or_1d(y, warn=True)\n"
     ]
    },
    {
     "name": "stdout",
     "output_type": "stream",
     "text": [
      "Train accuracy: 1.0 Test accuracy: 0.958333333333\n"
     ]
    },
    {
     "name": "stderr",
     "output_type": "stream",
     "text": [
      "C:\\Users\\user\\Anaconda3\\envs\\tensorflow\\lib\\site-packages\\sklearn\\utils\\validation.py:526: DataConversionWarning: A column-vector y was passed when a 1d array was expected. Please change the shape of y to (n_samples, ), for example using ravel().\n",
      "  y = column_or_1d(y, warn=True)\n"
     ]
    },
    {
     "name": "stdout",
     "output_type": "stream",
     "text": [
      "Train accuracy: 1.0 Test accuracy: 0.991666666667\n"
     ]
    },
    {
     "name": "stderr",
     "output_type": "stream",
     "text": [
      "C:\\Users\\user\\Anaconda3\\envs\\tensorflow\\lib\\site-packages\\sklearn\\utils\\validation.py:526: DataConversionWarning: A column-vector y was passed when a 1d array was expected. Please change the shape of y to (n_samples, ), for example using ravel().\n",
      "  y = column_or_1d(y, warn=True)\n"
     ]
    },
    {
     "name": "stdout",
     "output_type": "stream",
     "text": [
      "Train accuracy: 1.0 Test accuracy: 0.991666666667\n"
     ]
    },
    {
     "name": "stderr",
     "output_type": "stream",
     "text": [
      "C:\\Users\\user\\Anaconda3\\envs\\tensorflow\\lib\\site-packages\\sklearn\\utils\\validation.py:526: DataConversionWarning: A column-vector y was passed when a 1d array was expected. Please change the shape of y to (n_samples, ), for example using ravel().\n",
      "  y = column_or_1d(y, warn=True)\n"
     ]
    },
    {
     "name": "stdout",
     "output_type": "stream",
     "text": [
      "Train accuracy: 1.0 Test accuracy: 0.941666666667\n"
     ]
    },
    {
     "name": "stderr",
     "output_type": "stream",
     "text": [
      "C:\\Users\\user\\Anaconda3\\envs\\tensorflow\\lib\\site-packages\\sklearn\\utils\\validation.py:526: DataConversionWarning: A column-vector y was passed when a 1d array was expected. Please change the shape of y to (n_samples, ), for example using ravel().\n",
      "  y = column_or_1d(y, warn=True)\n"
     ]
    },
    {
     "name": "stdout",
     "output_type": "stream",
     "text": [
      "Train accuracy: 1.0 Test accuracy: 0.9\n"
     ]
    },
    {
     "name": "stderr",
     "output_type": "stream",
     "text": [
      "C:\\Users\\user\\Anaconda3\\envs\\tensorflow\\lib\\site-packages\\sklearn\\utils\\validation.py:526: DataConversionWarning: A column-vector y was passed when a 1d array was expected. Please change the shape of y to (n_samples, ), for example using ravel().\n",
      "  y = column_or_1d(y, warn=True)\n"
     ]
    },
    {
     "name": "stdout",
     "output_type": "stream",
     "text": [
      "Train accuracy: 1.0 Test accuracy: 0.983333333333\n"
     ]
    },
    {
     "name": "stderr",
     "output_type": "stream",
     "text": [
      "C:\\Users\\user\\Anaconda3\\envs\\tensorflow\\lib\\site-packages\\sklearn\\utils\\validation.py:526: DataConversionWarning: A column-vector y was passed when a 1d array was expected. Please change the shape of y to (n_samples, ), for example using ravel().\n",
      "  y = column_or_1d(y, warn=True)\n"
     ]
    },
    {
     "name": "stdout",
     "output_type": "stream",
     "text": [
      "Train accuracy: 1.0 Test accuracy: 0.95\n",
      "[0.90000000000000002, 0.96666666666666667, 1.0, 0.89166666666666672, 0.91666666666666663, 0.95833333333333337, 0.9916666666666667, 0.9916666666666667, 0.94166666666666665, 0.90000000000000002, 0.98333333333333328, 0.94999999999999996]\n",
      "Mean Test accuracy:  0.949305555556\n"
     ]
    }
   ],
   "source": [
    "clf = SVC()\n",
    "\n",
    "max_test = []\n",
    "for train_index, test_index in LOOCV.split(X_data, y_data, groups):\n",
    "    X_train, X_test = X_data[train_index], X_data[test_index]\n",
    "    y_train, y_test = y_data[train_index], y_data[test_index]\n",
    "\n",
    "    poly100_kernel_svm_clf = Pipeline((\n",
    "            (\"scaler\", StandardScaler()),\n",
    "            (\"svm_clf\", SVC(kernel=\"poly\", degree=10, coef0=100, C=5))\n",
    "        ))\n",
    "    poly100_kernel_svm_clf.fit(X_train, y_train)\n",
    "    poly100_y_pred = poly100_kernel_svm_clf.predict(X_train)\n",
    "    poly100_acc_train = accuracy_score(y_train, poly100_y_pred)\n",
    "    poly100_y_pred = poly100_kernel_svm_clf.predict(X_test)\n",
    "    poly100_acc_test = accuracy_score(y_test, poly100_y_pred)\n",
    "    \n",
    "    max_test.append(poly100_acc_test)\n",
    "    print(\"Train accuracy:\", poly100_acc_train, \"Test accuracy:\", poly100_acc_test)\n",
    "    \n",
    "print(max_test) \n",
    "print(\"Mean Test accuracy: \", np.mean(max_test))"
   ]
  },
  {
   "cell_type": "markdown",
   "metadata": {},
   "source": [
    "The second polynomial kernel SVM model average accuracy of 12 parts is 0.9493\n"
   ]
  },
  {
   "cell_type": "code",
   "execution_count": 15,
   "metadata": {},
   "outputs": [
    {
     "name": "stdout",
     "output_type": "stream",
     "text": [
      "[0.90000000000000002, 0.96666666666666667, 1.0, 0.89166666666666672, 0.91666666666666663, 0.95833333333333337, 0.9916666666666667, 0.9916666666666667, 0.94166666666666665, 0.90000000000000002, 0.98333333333333328, 0.94999999999999996]\n",
      "Mean Test accuracy:  0.949305555556\n"
     ]
    }
   ],
   "source": [
    "    \n",
    "print(max_test) \n",
    "print(\"Mean Test accuracy: \", np.mean(max_test))"
   ]
  },
  {
   "cell_type": "markdown",
   "metadata": {},
   "source": [
    "So, Second polynomial kernel SVM model is better than first polynomial kernel SVM model\n",
    "\n"
   ]
  },
  {
   "cell_type": "markdown",
   "metadata": {
    "collapsed": true
   },
   "source": [
    "\n",
    "# DNN\n",
    "\n",
    "\n",
    "I wanted to create and analyze deep neural networks(artificial neural networks)\n",
    "\n",
    "First of all, i made up two hidden layers.\n",
    "\n",
    "The first hidden layer consists of 300 neurons.\n",
    "\n",
    "and the second hidden layer consists of 100 neurons.\n"
   ]
  },
  {
   "cell_type": "markdown",
   "metadata": {},
   "source": [
    "# Using dense() instead of neuron_layer()\n",
    "\n",
    "If initializer is None (the default), the default initializer passed in the variable scope will be used. If that one is None too, a glorot_uniform_initializer will be used. The initializer can also be a Tensor, in which case the variable is initialized to this value and shape"
   ]
  },
  {
   "cell_type": "code",
   "execution_count": 19,
   "metadata": {
    "collapsed": true
   },
   "outputs": [],
   "source": [
    "n_hidden1 = 300\n",
    "n_hidden2 = 100\n",
    "n_outputs = 4\n",
    "\n",
    "reset_graph()\n",
    "\n",
    "X = tf.placeholder(tf.float32, shape=(None,74484), name=\"X\")\n",
    "y = tf.placeholder(tf.int64, shape=(None), name=\"y\")\n",
    "\n",
    "# print(y)\n",
    "\n",
    "with tf.name_scope(\"dnn\"): # Set hidden layers\n",
    "    hidden1 = tf.layers.dense(X, n_hidden1, name=\"hidden1\",\n",
    "                              activation=tf.nn.relu)\n",
    "    hidden2 = tf.layers.dense(hidden1, n_hidden2, name=\"hidden2\",\n",
    "                              activation=tf.nn.relu)\n",
    "    logits = tf.layers.dense(hidden2, n_outputs, name=\"outputs\")\n",
    "    \n",
    "    \n",
    "with tf.name_scope(\"loss\"): # Set loss function : cross-entropy\n",
    "    xentropy = tf.nn.sparse_softmax_cross_entropy_with_logits(labels=y, logits=logits)\n",
    "    loss = tf.reduce_mean(xentropy, name=\"loss\")\n",
    "    \n",
    "learning_rate = 0.01\n",
    "\n",
    "with tf.name_scope(\"train\"): # Set the Learning rate : 0.01\n",
    "    optimizer = tf.train.GradientDescentOptimizer(learning_rate) # Optimizer : GradientDescent\n",
    "    training_op = optimizer.minimize(loss)\n",
    "    \n",
    "with tf.name_scope(\"eval\"):\n",
    "    correct = tf.nn.in_top_k(logits, y, 1) # Set the highest values as predict class \n",
    "    accuracy = tf.reduce_mean(tf.cast(correct, tf.float32))\n",
    "    \n",
    "init = tf.global_variables_initializer()\n",
    "saver = tf.train.Saver()\n",
    "\n"
   ]
  },
  {
   "cell_type": "code",
   "execution_count": 28,
   "metadata": {},
   "outputs": [
    {
     "name": "stdout",
     "output_type": "stream",
     "text": [
      "0 Train accuracy: 0.741667 Test accuracy: 0.641667\n",
      "1 Train accuracy: 0.857576 Test accuracy: 0.691667\n",
      "2 Train accuracy: 0.889394 Test accuracy: 0.775\n",
      "3 Train accuracy: 0.952273 Test accuracy: 0.808333\n",
      "4 Train accuracy: 0.959848 Test accuracy: 0.816667\n",
      "5 Train accuracy: 0.968939 Test accuracy: 0.783333\n",
      "6 Train accuracy: 0.987121 Test accuracy: 0.875\n",
      "7 Train accuracy: 0.982576 Test accuracy: 0.85\n",
      "8 Train accuracy: 0.996212 Test accuracy: 0.841667\n",
      "9 Train accuracy: 0.999242 Test accuracy: 0.866667\n",
      "End_LOOCV\n",
      "0.866667\n",
      "------------------------------------------------------------\n",
      "0 Train accuracy: 0.638636 Test accuracy: 0.625\n",
      "1 Train accuracy: 0.831818 Test accuracy: 0.725\n",
      "2 Train accuracy: 0.906061 Test accuracy: 0.858333\n",
      "3 Train accuracy: 0.941667 Test accuracy: 0.941667\n",
      "4 Train accuracy: 0.959091 Test accuracy: 0.933333\n",
      "5 Train accuracy: 0.975 Test accuracy: 0.966667\n",
      "6 Train accuracy: 0.986364 Test accuracy: 0.991667\n",
      "7 Train accuracy: 0.993182 Test accuracy: 0.991667\n",
      "8 Train accuracy: 0.993182 Test accuracy: 0.95\n",
      "9 Train accuracy: 0.999242 Test accuracy: 0.966667\n",
      "End_LOOCV\n",
      "0.966667\n",
      "------------------------------------------------------------\n",
      "0 Train accuracy: 0.853788 Test accuracy: 0.941667\n",
      "1 Train accuracy: 0.915909 Test accuracy: 0.983333\n",
      "2 Train accuracy: 0.947727 Test accuracy: 0.983333\n",
      "3 Train accuracy: 0.962121 Test accuracy: 0.991667\n",
      "4 Train accuracy: 0.933333 Test accuracy: 0.9\n",
      "5 Train accuracy: 0.982576 Test accuracy: 1.0\n",
      "6 Train accuracy: 0.974242 Test accuracy: 0.991667\n",
      "7 Train accuracy: 0.993939 Test accuracy: 0.991667\n",
      "8 Train accuracy: 0.999242 Test accuracy: 0.991667\n",
      "9 Train accuracy: 1.0 Test accuracy: 0.991667\n",
      "End_LOOCV\n",
      "0.991667\n",
      "------------------------------------------------------------\n",
      "0 Train accuracy: 0.740909 Test accuracy: 0.575\n",
      "1 Train accuracy: 0.884848 Test accuracy: 0.85\n",
      "2 Train accuracy: 0.9 Test accuracy: 0.9\n",
      "3 Train accuracy: 0.985606 Test accuracy: 0.925\n",
      "4 Train accuracy: 0.97803 Test accuracy: 0.9\n",
      "5 Train accuracy: 0.996212 Test accuracy: 0.916667\n",
      "6 Train accuracy: 0.965151 Test accuracy: 0.958333\n",
      "7 Train accuracy: 0.977273 Test accuracy: 0.958333\n",
      "8 Train accuracy: 0.999242 Test accuracy: 0.908333\n",
      "9 Train accuracy: 0.997727 Test accuracy: 0.941667\n",
      "End_LOOCV\n",
      "0.941667\n",
      "------------------------------------------------------------\n",
      "0 Train accuracy: 0.648485 Test accuracy: 0.541667\n",
      "1 Train accuracy: 0.948485 Test accuracy: 0.758333\n",
      "2 Train accuracy: 0.959848 Test accuracy: 0.791667\n",
      "3 Train accuracy: 0.986364 Test accuracy: 0.833333\n",
      "4 Train accuracy: 0.990909 Test accuracy: 0.9\n",
      "5 Train accuracy: 0.981061 Test accuracy: 0.858333\n",
      "6 Train accuracy: 0.994697 Test accuracy: 0.875\n",
      "7 Train accuracy: 0.998485 Test accuracy: 0.875\n",
      "8 Train accuracy: 1.0 Test accuracy: 0.875\n",
      "9 Train accuracy: 1.0 Test accuracy: 0.875\n",
      "End_LOOCV\n",
      "0.875\n",
      "------------------------------------------------------------\n",
      "0 Train accuracy: 0.728788 Test accuracy: 0.541667\n",
      "1 Train accuracy: 0.940152 Test accuracy: 0.816667\n",
      "2 Train accuracy: 0.843182 Test accuracy: 0.65\n",
      "3 Train accuracy: 0.975 Test accuracy: 0.875\n",
      "4 Train accuracy: 0.963636 Test accuracy: 0.875\n",
      "5 Train accuracy: 0.966667 Test accuracy: 0.833333\n",
      "6 Train accuracy: 0.957576 Test accuracy: 0.858333\n",
      "7 Train accuracy: 0.952273 Test accuracy: 0.875\n",
      "8 Train accuracy: 0.972727 Test accuracy: 0.883333\n",
      "9 Train accuracy: 0.994697 Test accuracy: 0.866667\n",
      "End_LOOCV\n",
      "0.866667\n",
      "------------------------------------------------------------\n",
      "0 Train accuracy: 0.516667 Test accuracy: 0.591667\n",
      "1 Train accuracy: 0.815152 Test accuracy: 0.883333\n",
      "2 Train accuracy: 0.954545 Test accuracy: 0.941667\n",
      "3 Train accuracy: 0.97803 Test accuracy: 0.975\n",
      "4 Train accuracy: 0.95 Test accuracy: 0.916667\n",
      "5 Train accuracy: 0.996212 Test accuracy: 0.958333\n",
      "6 Train accuracy: 0.995455 Test accuracy: 0.966667\n",
      "7 Train accuracy: 0.996212 Test accuracy: 0.975\n",
      "8 Train accuracy: 1.0 Test accuracy: 0.983333\n",
      "9 Train accuracy: 1.0 Test accuracy: 0.983333\n",
      "End_LOOCV\n",
      "0.983333\n",
      "------------------------------------------------------------\n",
      "0 Train accuracy: 0.756061 Test accuracy: 0.866667\n",
      "1 Train accuracy: 0.919697 Test accuracy: 0.991667\n",
      "2 Train accuracy: 0.969697 Test accuracy: 0.983333\n",
      "3 Train accuracy: 0.967424 Test accuracy: 0.983333\n",
      "4 Train accuracy: 0.938636 Test accuracy: 1.0\n",
      "5 Train accuracy: 0.975758 Test accuracy: 0.983333\n",
      "6 Train accuracy: 0.954545 Test accuracy: 0.933333\n",
      "7 Train accuracy: 0.965151 Test accuracy: 0.941667\n",
      "8 Train accuracy: 0.980303 Test accuracy: 0.9\n",
      "9 Train accuracy: 0.998485 Test accuracy: 0.975\n",
      "End_LOOCV\n",
      "0.975\n",
      "------------------------------------------------------------\n",
      "0 Train accuracy: 0.610606 Test accuracy: 0.475\n",
      "1 Train accuracy: 0.87197 Test accuracy: 0.833333\n",
      "2 Train accuracy: 0.85303 Test accuracy: 0.808333\n",
      "3 Train accuracy: 0.855303 Test accuracy: 0.808333\n",
      "4 Train accuracy: 0.951515 Test accuracy: 0.858333\n",
      "5 Train accuracy: 0.987121 Test accuracy: 0.9\n",
      "6 Train accuracy: 0.994697 Test accuracy: 0.908333\n",
      "7 Train accuracy: 0.997727 Test accuracy: 0.925\n",
      "8 Train accuracy: 0.998485 Test accuracy: 0.908333\n",
      "9 Train accuracy: 0.998485 Test accuracy: 0.908333\n",
      "End_LOOCV\n",
      "0.908333\n",
      "------------------------------------------------------------\n",
      "0 Train accuracy: 0.753788 Test accuracy: 0.641667\n",
      "1 Train accuracy: 0.807576 Test accuracy: 0.741667\n",
      "2 Train accuracy: 0.972727 Test accuracy: 0.858333\n",
      "3 Train accuracy: 0.840151 Test accuracy: 0.766667\n",
      "4 Train accuracy: 0.962121 Test accuracy: 0.883333\n",
      "5 Train accuracy: 0.990152 Test accuracy: 0.891667\n",
      "6 Train accuracy: 0.993939 Test accuracy: 0.933333\n",
      "7 Train accuracy: 1.0 Test accuracy: 0.891667\n",
      "8 Train accuracy: 1.0 Test accuracy: 0.933333\n",
      "9 Train accuracy: 1.0 Test accuracy: 0.933333\n",
      "End_LOOCV\n",
      "0.933333\n",
      "------------------------------------------------------------\n",
      "0 Train accuracy: 0.713636 Test accuracy: 0.675\n",
      "1 Train accuracy: 0.874242 Test accuracy: 0.666667\n",
      "2 Train accuracy: 0.942424 Test accuracy: 0.775\n",
      "3 Train accuracy: 0.97803 Test accuracy: 0.883333\n",
      "4 Train accuracy: 0.987879 Test accuracy: 0.916667\n",
      "5 Train accuracy: 0.99697 Test accuracy: 0.916667\n",
      "6 Train accuracy: 0.999242 Test accuracy: 0.925\n",
      "7 Train accuracy: 1.0 Test accuracy: 0.925\n",
      "8 Train accuracy: 1.0 Test accuracy: 0.925\n",
      "9 Train accuracy: 1.0 Test accuracy: 0.925\n",
      "End_LOOCV\n",
      "0.925\n",
      "------------------------------------------------------------\n",
      "0 Train accuracy: 0.601515 Test accuracy: 0.5\n",
      "1 Train accuracy: 0.867424 Test accuracy: 0.825\n",
      "2 Train accuracy: 0.962121 Test accuracy: 0.783333\n",
      "3 Train accuracy: 0.821212 Test accuracy: 0.766667\n",
      "4 Train accuracy: 0.938636 Test accuracy: 0.9\n",
      "5 Train accuracy: 0.985606 Test accuracy: 0.866667\n",
      "6 Train accuracy: 0.992424 Test accuracy: 0.875\n",
      "7 Train accuracy: 0.998485 Test accuracy: 0.883333\n",
      "8 Train accuracy: 0.998485 Test accuracy: 0.883333\n",
      "9 Train accuracy: 0.998485 Test accuracy: 0.883333\n",
      "End_LOOCV\n",
      "0.883333\n",
      "------------------------------------------------------------\n",
      "============================================================\n",
      "final result\n",
      "[0.86666667, 0.96666664, 0.99166667, 0.94166666, 0.875, 0.86666667, 0.98333335, 0.97500002, 0.90833336, 0.93333334, 0.92500001, 0.88333333]\n",
      "Test accuracy:  0.926389\n"
     ]
    }
   ],
   "source": [
    "n_epochs = 10  # set the number of epochs to 10\n",
    "batch_size = 10  # set the number of mini-batch size to 10\n",
    "\n",
    "\n",
    "total = []  # set the space to store the accuracy of the entire LOOCV, later\n",
    "for train_index, test_index in LOOCV.split(X_data, y_data, groups): # LOOCV\n",
    "    #print(\"TRAIN:\", train_index, \"TEST:\", test_index)\n",
    "    X_train, X_test = X_data[train_index], X_data[test_index]\n",
    "    y_train, y_test = y_data[train_index], y_data[test_index]\n",
    "\n",
    "    with tf.Session() as sess:\n",
    "        init.run()\n",
    "        max_test = [] # set the space to store all the accuracy of model with the mini-batch , later\n",
    "        for epoch in range(n_epochs):\n",
    "            for iteration in range(0,len(y_train) // batch_size):\n",
    "                X_batch = X_train[(batch_size*iteration):batch_size*(iteration+1)]\n",
    "                # Load as many as mini-batch size  \n",
    "                \n",
    "                # print(X_batch.shape) # Check the mini-batch\n",
    "                y_batch = y_train[(batch_size*iteration):batch_size*(iteration+1)].reshape(-1,)\n",
    "                \n",
    "                \n",
    "                # print(a.shape)\n",
    "                # y_batch= a.reshape(-1,)\n",
    "                # print(y_batch.shape)\n",
    "                \n",
    "                # run the DNN\n",
    "                sess.run(training_op, feed_dict={X: X_batch, y: y_batch.reshape(-1,)})\n",
    "            #test12 = correct.eval(feed_dict={X: X_batch, y: y_batch})\n",
    "            acc_train = accuracy.eval(feed_dict={X: X_train, y: y_train.reshape(-1,)})\n",
    "            #test23 = correct.eval(feed_dict={X: X_test, y: y_test.reshape(-1,)})\n",
    "            acc_test = accuracy.eval(feed_dict={X: X_test, y: y_test.reshape(-1,)})\n",
    "            # show the accuracy of the test and train set\n",
    "            \n",
    "            \n",
    "            max_test.append(acc_test)\n",
    "            #print(test12)\n",
    "            #print(\"------------------------\")\n",
    "            #print(test23)\n",
    "            print(epoch, \"Train accuracy:\", acc_train, \"Test accuracy:\", acc_test)\n",
    "        total.append(max_test[n_epochs-1])\n",
    "        \n",
    "        save_path = saver.save(sess, \"./my_model_final.ckpt\")\n",
    "        print(\"End_LOOCV\")\n",
    "        print(max_test[n_epochs-1]) # Show the accuracy at the last epoch\n",
    "        print(\"--\"*30) \n",
    "        \n",
    "        \n",
    "print(\"==\"*30)\n",
    "print(\"final result\")\n",
    "print(total)\n",
    "print(\"Test accuracy: \", np.mean(total)) # Show average accuracy at each LOOCV\n",
    "\n"
   ]
  },
  {
   "cell_type": "markdown",
   "metadata": {},
   "source": [
    "As a result, the average accurcy of DNN(2 hidden layers) is 0.9264"
   ]
  },
  {
   "cell_type": "markdown",
   "metadata": {},
   "source": [
    "Next, i checked other DNN with three hidden layers.\n",
    "\n",
    "The first hidden layer consists of 100 neurons, second hidden layer consists of 200 neurons.\n",
    "\n",
    "and the third hidden layer consists of 100 neurons.\n"
   ]
  },
  {
   "cell_type": "code",
   "execution_count": 29,
   "metadata": {
    "collapsed": true
   },
   "outputs": [],
   "source": [
    "n_hidden1 = 100\n",
    "n_hidden2 = 200\n",
    "n_hidden3 = 100\n",
    "\n",
    "n_outputs = 4\n",
    "\n",
    "reset_graph()\n",
    "\n",
    "X = tf.placeholder(tf.float32, shape=(None,74484), name=\"X\")\n",
    "y = tf.placeholder(tf.int64, shape=(None), name=\"y\")\n",
    "\n",
    "# print(y)\n",
    "\n",
    "with tf.name_scope(\"dnn\"):\n",
    "    hidden1 = tf.layers.dense(X, n_hidden1, name=\"hidden1\",\n",
    "                              activation=tf.nn.relu)\n",
    "    hidden2 = tf.layers.dense(hidden1, n_hidden2, name=\"hidden2\",\n",
    "                              activation=tf.nn.relu)\n",
    "    hidden3 = tf.layers.dense(hidden2, n_hidden3, name=\"hidden3\",\n",
    "                              activation=tf.nn.relu)\n",
    "    logits = tf.layers.dense(hidden2, n_outputs, name=\"outputs\")\n",
    "    \n",
    "    \n",
    "with tf.name_scope(\"loss\"):\n",
    "    xentropy = tf.nn.sparse_softmax_cross_entropy_with_logits(labels=y, logits=logits)\n",
    "    loss = tf.reduce_mean(xentropy, name=\"loss\")\n",
    "    \n",
    "learning_rate = 0.01\n",
    "\n",
    "with tf.name_scope(\"train\"):\n",
    "    optimizer = tf.train.GradientDescentOptimizer(learning_rate)\n",
    "    training_op = optimizer.minimize(loss)\n",
    "    \n",
    "with tf.name_scope(\"eval\"):\n",
    "    correct = tf.nn.in_top_k(logits, y, 1)\n",
    "    accuracy = tf.reduce_mean(tf.cast(correct, tf.float32))\n",
    "    \n",
    "init = tf.global_variables_initializer()\n",
    "saver = tf.train.Saver()\n",
    "\n"
   ]
  },
  {
   "cell_type": "markdown",
   "metadata": {},
   "source": [
    "Other settings were the same."
   ]
  },
  {
   "cell_type": "code",
   "execution_count": 30,
   "metadata": {},
   "outputs": [
    {
     "name": "stdout",
     "output_type": "stream",
     "text": [
      "0 Train accuracy: 0.835606 Test accuracy: 0.725\n",
      "1 Train accuracy: 0.830303 Test accuracy: 0.666667\n",
      "2 Train accuracy: 0.946212 Test accuracy: 0.825\n",
      "3 Train accuracy: 0.967424 Test accuracy: 0.85\n",
      "4 Train accuracy: 0.985606 Test accuracy: 0.908333\n",
      "5 Train accuracy: 0.986364 Test accuracy: 0.816667\n",
      "6 Train accuracy: 0.993939 Test accuracy: 0.891667\n",
      "7 Train accuracy: 1.0 Test accuracy: 0.925\n",
      "8 Train accuracy: 1.0 Test accuracy: 0.925\n",
      "9 Train accuracy: 1.0 Test accuracy: 0.925\n",
      "End_LOOCV\n",
      "0.925\n",
      "------------------------------------------------------------\n",
      "0 Train accuracy: 0.634848 Test accuracy: 0.541667\n",
      "1 Train accuracy: 0.888636 Test accuracy: 0.933333\n",
      "2 Train accuracy: 0.962879 Test accuracy: 0.983333\n",
      "3 Train accuracy: 0.899242 Test accuracy: 0.85\n",
      "4 Train accuracy: 0.980303 Test accuracy: 0.966667\n",
      "5 Train accuracy: 0.664394 Test accuracy: 0.508333\n",
      "6 Train accuracy: 0.439394 Test accuracy: 0.466667\n",
      "7 Train accuracy: 0.523485 Test accuracy: 0.5\n",
      "8 Train accuracy: 0.682576 Test accuracy: 0.525\n",
      "9 Train accuracy: 0.840909 Test accuracy: 0.733333\n",
      "End_LOOCV\n",
      "0.733333\n",
      "------------------------------------------------------------\n",
      "0 Train accuracy: 0.609091 Test accuracy: 0.666667\n",
      "1 Train accuracy: 0.805303 Test accuracy: 0.85\n",
      "2 Train accuracy: 0.925 Test accuracy: 0.975\n",
      "3 Train accuracy: 0.918182 Test accuracy: 0.958333\n",
      "4 Train accuracy: 0.958333 Test accuracy: 0.966667\n",
      "5 Train accuracy: 0.876515 Test accuracy: 0.85\n",
      "6 Train accuracy: 0.981818 Test accuracy: 1.0\n",
      "7 Train accuracy: 0.992424 Test accuracy: 1.0\n",
      "8 Train accuracy: 0.993939 Test accuracy: 1.0\n",
      "9 Train accuracy: 0.998485 Test accuracy: 1.0\n",
      "End_LOOCV\n",
      "1.0\n",
      "------------------------------------------------------------\n",
      "0 Train accuracy: 0.745455 Test accuracy: 0.625\n",
      "1 Train accuracy: 0.826515 Test accuracy: 0.741667\n",
      "2 Train accuracy: 0.950758 Test accuracy: 0.891667\n",
      "3 Train accuracy: 0.975 Test accuracy: 0.891667\n",
      "4 Train accuracy: 0.995455 Test accuracy: 0.875\n",
      "5 Train accuracy: 0.999242 Test accuracy: 0.916667\n",
      "6 Train accuracy: 1.0 Test accuracy: 0.883333\n",
      "7 Train accuracy: 1.0 Test accuracy: 0.9\n",
      "8 Train accuracy: 1.0 Test accuracy: 0.9\n",
      "9 Train accuracy: 1.0 Test accuracy: 0.9\n",
      "End_LOOCV\n",
      "0.9\n",
      "------------------------------------------------------------\n",
      "0 Train accuracy: 0.47803 Test accuracy: 0.408333\n",
      "1 Train accuracy: 0.893939 Test accuracy: 0.675\n",
      "2 Train accuracy: 0.951515 Test accuracy: 0.733333\n",
      "3 Train accuracy: 0.957576 Test accuracy: 0.8\n",
      "4 Train accuracy: 0.979545 Test accuracy: 0.808333\n",
      "5 Train accuracy: 0.987879 Test accuracy: 0.825\n",
      "6 Train accuracy: 0.990152 Test accuracy: 0.858333\n",
      "7 Train accuracy: 0.974242 Test accuracy: 0.791667\n",
      "8 Train accuracy: 0.981061 Test accuracy: 0.866667\n",
      "9 Train accuracy: 0.990152 Test accuracy: 0.85\n",
      "End_LOOCV\n",
      "0.85\n",
      "------------------------------------------------------------\n",
      "0 Train accuracy: 0.757576 Test accuracy: 0.641667\n",
      "1 Train accuracy: 0.909849 Test accuracy: 0.791667\n",
      "2 Train accuracy: 0.965151 Test accuracy: 0.891667\n",
      "3 Train accuracy: 0.967424 Test accuracy: 0.883333\n",
      "4 Train accuracy: 0.972727 Test accuracy: 0.791667\n",
      "5 Train accuracy: 0.994697 Test accuracy: 0.866667\n",
      "6 Train accuracy: 0.984848 Test accuracy: 0.933333\n",
      "7 Train accuracy: 0.990152 Test accuracy: 0.933333\n",
      "8 Train accuracy: 0.994697 Test accuracy: 0.933333\n",
      "9 Train accuracy: 1.0 Test accuracy: 0.925\n",
      "End_LOOCV\n",
      "0.925\n",
      "------------------------------------------------------------\n",
      "0 Train accuracy: 0.648485 Test accuracy: 0.816667\n",
      "1 Train accuracy: 0.784849 Test accuracy: 0.841667\n",
      "2 Train accuracy: 0.958333 Test accuracy: 0.933333\n",
      "3 Train accuracy: 0.97197 Test accuracy: 0.941667\n",
      "4 Train accuracy: 0.984091 Test accuracy: 0.941667\n",
      "5 Train accuracy: 0.912879 Test accuracy: 0.925\n",
      "6 Train accuracy: 0.994697 Test accuracy: 0.975\n",
      "7 Train accuracy: 0.957576 Test accuracy: 0.941667\n",
      "8 Train accuracy: 0.979545 Test accuracy: 0.941667\n",
      "9 Train accuracy: 0.996212 Test accuracy: 0.933333\n",
      "End_LOOCV\n",
      "0.933333\n",
      "------------------------------------------------------------\n",
      "0 Train accuracy: 0.528788 Test accuracy: 0.5\n",
      "1 Train accuracy: 0.368182 Test accuracy: 0.416667\n",
      "2 Train accuracy: 0.593182 Test accuracy: 0.616667\n",
      "3 Train accuracy: 0.571212 Test accuracy: 0.475\n",
      "4 Train accuracy: 0.582576 Test accuracy: 0.441667\n",
      "5 Train accuracy: 0.62197 Test accuracy: 0.6\n",
      "6 Train accuracy: 0.679545 Test accuracy: 0.566667\n",
      "7 Train accuracy: 0.693939 Test accuracy: 0.633333\n",
      "8 Train accuracy: 0.710606 Test accuracy: 0.658333\n",
      "9 Train accuracy: 0.747727 Test accuracy: 0.666667\n",
      "End_LOOCV\n",
      "0.666667\n",
      "------------------------------------------------------------\n",
      "0 Train accuracy: 0.344697 Test accuracy: 0.3\n",
      "1 Train accuracy: 0.713636 Test accuracy: 0.7\n",
      "2 Train accuracy: 0.521212 Test accuracy: 0.516667\n",
      "3 Train accuracy: 0.605303 Test accuracy: 0.633333\n",
      "4 Train accuracy: 0.825 Test accuracy: 0.691667\n",
      "5 Train accuracy: 0.669697 Test accuracy: 0.666667\n",
      "6 Train accuracy: 0.829545 Test accuracy: 0.8\n",
      "7 Train accuracy: 0.927273 Test accuracy: 0.9\n",
      "8 Train accuracy: 0.882576 Test accuracy: 0.85\n",
      "9 Train accuracy: 0.885606 Test accuracy: 0.8\n",
      "End_LOOCV\n",
      "0.8\n",
      "------------------------------------------------------------\n",
      "0 Train accuracy: 0.643182 Test accuracy: 0.458333\n",
      "1 Train accuracy: 0.934091 Test accuracy: 0.891667\n",
      "2 Train accuracy: 0.980303 Test accuracy: 0.958333\n",
      "3 Train accuracy: 0.995455 Test accuracy: 0.925\n",
      "4 Train accuracy: 0.997727 Test accuracy: 0.9\n",
      "5 Train accuracy: 1.0 Test accuracy: 0.891667\n",
      "6 Train accuracy: 1.0 Test accuracy: 0.891667\n",
      "7 Train accuracy: 1.0 Test accuracy: 0.891667\n",
      "8 Train accuracy: 1.0 Test accuracy: 0.891667\n",
      "9 Train accuracy: 1.0 Test accuracy: 0.891667\n",
      "End_LOOCV\n",
      "0.891667\n",
      "------------------------------------------------------------\n",
      "0 Train accuracy: 0.481818 Test accuracy: 0.525\n",
      "1 Train accuracy: 0.866667 Test accuracy: 0.675\n",
      "2 Train accuracy: 0.973485 Test accuracy: 0.825\n",
      "3 Train accuracy: 0.94697 Test accuracy: 0.808333\n",
      "4 Train accuracy: 0.990152 Test accuracy: 0.85\n",
      "5 Train accuracy: 0.999242 Test accuracy: 0.825\n",
      "6 Train accuracy: 1.0 Test accuracy: 0.825\n",
      "7 Train accuracy: 1.0 Test accuracy: 0.816667\n",
      "8 Train accuracy: 1.0 Test accuracy: 0.816667\n",
      "9 Train accuracy: 1.0 Test accuracy: 0.816667\n",
      "End_LOOCV\n",
      "0.816667\n",
      "------------------------------------------------------------\n",
      "0 Train accuracy: 0.652273 Test accuracy: 0.541667\n",
      "1 Train accuracy: 0.770455 Test accuracy: 0.691667\n",
      "2 Train accuracy: 0.92803 Test accuracy: 0.875\n",
      "3 Train accuracy: 0.876515 Test accuracy: 0.875\n",
      "4 Train accuracy: 0.880303 Test accuracy: 0.841667\n",
      "5 Train accuracy: 0.965151 Test accuracy: 0.833333\n",
      "6 Train accuracy: 0.984848 Test accuracy: 0.866667\n",
      "7 Train accuracy: 0.987121 Test accuracy: 0.85\n",
      "8 Train accuracy: 0.999242 Test accuracy: 0.858333\n",
      "9 Train accuracy: 1.0 Test accuracy: 0.866667\n",
      "End_LOOCV\n",
      "0.866667\n",
      "------------------------------------------------------------\n",
      "============================================================\n",
      "final result\n",
      "[0.92500001, 0.73333335, 1.0, 0.89999998, 0.85000002, 0.92500001, 0.93333334, 0.66666669, 0.80000001, 0.89166665, 0.81666666, 0.86666667]\n",
      "Test accuracy:  0.859028\n"
     ]
    }
   ],
   "source": [
    "n_epochs = 10\n",
    "batch_size = 10\n",
    "\n",
    "\n",
    "total = []\n",
    "for train_index, test_index in LOOCV.split(X_data, y_data, groups):\n",
    "    #print(\"TRAIN:\", train_index, \"TEST:\", test_index)\n",
    "    X_train, X_test = X_data[train_index], X_data[test_index]\n",
    "    y_train, y_test = y_data[train_index], y_data[test_index]\n",
    "\n",
    "    with tf.Session() as sess:\n",
    "        init.run()\n",
    "        max_test = []\n",
    "        for epoch in range(n_epochs):\n",
    "            for iteration in range(0,len(y_train) // batch_size):\n",
    "    #             print(X_)\n",
    "                X_batch = X_train[(batch_size*iteration):batch_size*(iteration+1)]\n",
    "    #             print(X_batch.shape)\n",
    "                y_batch = y_train[(batch_size*iteration):batch_size*(iteration+1)].reshape(-1,)\n",
    "    #             print(a.shape)\n",
    "    #             y_batch= a#.reshape(-1,)\n",
    "    #             print(y_batch.shape)\n",
    "                sess.run(training_op, feed_dict={X: X_batch, y: y_batch.reshape(-1,)})\n",
    "            #test12 = correct.eval(feed_dict={X: X_batch, y: y_batch})\n",
    "            acc_train = accuracy.eval(feed_dict={X: X_train, y: y_train.reshape(-1,)})\n",
    "            #test23 = correct.eval(feed_dict={X: X_test, y: y_test.reshape(-1,)})\n",
    "            acc_test = accuracy.eval(feed_dict={X: X_test, y: y_test.reshape(-1,)})\n",
    "            max_test.append(acc_test)\n",
    "            #print(test12)\n",
    "            #print(\"------------------------\")\n",
    "            #print(test23)\n",
    "            print(epoch, \"Train accuracy:\", acc_train, \"Test accuracy:\", acc_test)\n",
    "        total.append(max_test[n_epochs-1])\n",
    "        \n",
    "        save_path = saver.save(sess, \"./my_model_final.ckpt\")\n",
    "        print(\"End_LOOCV\")\n",
    "        print(max_test[n_epochs-1])\n",
    "        print(\"--\"*30) \n",
    "        \n",
    "        \n",
    "\n",
    "print(\"==\"*30)\n",
    "print(\"final result\")\n",
    "print(total)\n",
    "print(\"Test accuracy: \", np.mean(total))"
   ]
  },
  {
   "cell_type": "markdown",
   "metadata": {},
   "source": [
    "The accuracy of the last epoch was selected, and the accuracy of each part was as follows.\n",
    "\n",
    "[0.92500001, 0.73333335, 1.0, 0.89999998, 0.85000002, 0.92500001, 0.93333334, 0.66666669, 0.80000001, 0.89166665, 0.81666666, 0.86666667]\n",
    "\n",
    "The total average accuracy of this model is 0.8590.\n",
    "\n",
    "\n",
    "As a result, it can be seen that the accuracy is not always impoved as the number of layers deeper.\n"
   ]
  },
  {
   "cell_type": "markdown",
   "metadata": {},
   "source": [
    "# Convolutional Neural Net"
   ]
  },
  {
   "cell_type": "markdown",
   "metadata": {},
   "source": [
    "Since i used on-dimesional data, we had to use the appropriate tensorflow function( tf.layers.conv1d, tf.layers.max_pooling1d).\n",
    "\n",
    "I wanted to make a CNN similar to AlexNet, so the architectures of CNN is as follows.\n",
    "\n",
    "1 layer : CONVOLUTION LAYER 32 feature maps, kernel size : 10, Strides : 5, Zero-padding : Done\n",
    ", neurons : ReLU\n",
    "\n",
    "2 layer : POOLING LAYER 32 feature maps, kernel size : 2, Strides : 2, Zero-padding : Not\n",
    "\n",
    "3 layer : CONVOLUTION LAYER 64 feature maps, kernel size : 10, Strides : 5, Zero-padding : Done\n",
    ", neurons : ReLU\n",
    "\n",
    "4 layer : POOLING LAYER 64 feature maps, kernel size : 2, Strides : 2, Zero-padding : Not\n",
    "At this time, 50% of the neurons dropout\n",
    "\n",
    "5 layer : NEURAL LAYER, neurons : ReLU\n",
    "At this time, 75% of the neurons dropout\n",
    "\n",
    "\n",
    "Optimizer : ADAM\n",
    "\n",
    "Batch Size : 30\n",
    "\n",
    "Epoch Size : 10 "
   ]
  },
  {
   "cell_type": "code",
   "execution_count": 7,
   "metadata": {
    "collapsed": true
   },
   "outputs": [],
   "source": [
    "\n",
    "width = 74484\n",
    "channels = 1\n",
    "n_inputs = 1*74484\n",
    "\n",
    "\n",
    "conv1_fmaps = 32\n",
    "conv1_ksize = 10\n",
    "conv1_stride = 5\n",
    "conv1_pad = \"SAME\"\n",
    "\n",
    "\n",
    "pool2_fmaps = conv1_fmaps\n",
    "\n",
    "conv3_fmaps = 64\n",
    "conv3_ksize = 10\n",
    "conv3_stride = 5\n",
    "conv3_pad = \"SAME\"\n",
    "conv3_dropout_rate = 0.5\n",
    "fc1_dropout_rate = 0.25\n",
    "pool4_fmaps = conv3_fmaps\n",
    "\n",
    "n_fc1 = 64\n",
    "n_outputs = 4\n",
    "\n",
    "reset_graph()\n",
    "\n",
    "with tf.name_scope(\"inputs\"):\n",
    "    X = tf.placeholder(tf.float32, shape=(None,74484), name=\"X\")\n",
    "    X_reshaped = tf.reshape(X, shape=[-1, width, channels])\n",
    "    y = tf.placeholder(tf.int64, shape=(None), name=\"y\")\n",
    "    training = tf.placeholder_with_default(False, shape=[], name='training')\n",
    "\n",
    "\n",
    "\n",
    "\n",
    "\n",
    "with tf.name_scope(\"conv1\"):\n",
    "    conv1 = tf.layers.conv1d(X_reshaped,\n",
    "                         filters=conv1_fmaps,\n",
    "                         kernel_size=conv1_ksize,\n",
    "                         strides=conv1_stride,\n",
    "                         padding=conv1_pad,\n",
    "                         activation=tf.nn.relu)\n",
    "    pool2 = tf.layers.max_pooling1d(conv1,\n",
    "                                    pool_size=2,\n",
    "                                    strides=2,\n",
    "                                    padding=\"VALID\")\n",
    "\n",
    "\n",
    "with tf.name_scope(\"conv3\"):\n",
    "    conv3 = tf.layers.conv1d(pool2,\n",
    "                             filters=conv3_fmaps,\n",
    "                             kernel_size=conv3_ksize,\n",
    "                             strides=conv3_stride,\n",
    "                             padding=conv3_pad,\n",
    "                             activation=tf.nn.relu)\n",
    "    pool4 = tf.layers.max_pooling1d(conv3,\n",
    "                                    pool_size=2,\n",
    "                                    strides=2,\n",
    "                                    padding=\"VALID\")\n",
    "    pool4_flat = tf.reshape(pool4, shape=[-1, pool4_fmaps*745])\n",
    "    pool4_flat_drop = tf.layers.dropout(pool4_flat,\n",
    "                                        conv3_dropout_rate,\n",
    "                                        training=training)\n",
    "    \n",
    "with tf.name_scope(\"fc1\"):\n",
    "    fc1 = tf.layers.dense(pool4_flat_drop, n_fc1, activation=tf.nn.relu, name=\"fc1\")\n",
    "    fc1_drop = tf.layers.dropout(fc1, fc1_dropout_rate, training=training)\n",
    "\n",
    "with tf.name_scope(\"output\"):\n",
    "    logits = tf.layers.dense(fc1_drop, n_outputs, name=\"output\")\n",
    "    Y_proba = tf.nn.softmax(logits, name=\"Y_proba\")\n",
    "\n",
    "with tf.name_scope(\"train\"):\n",
    "    xentropy = tf.nn.sparse_softmax_cross_entropy_with_logits(logits=logits, labels=y)\n",
    "    loss = tf.reduce_mean(xentropy)\n",
    "    optimizer = tf.train.AdamOptimizer()\n",
    "    training_op = optimizer.minimize(loss)\n",
    "\n",
    "with tf.name_scope(\"eval\"):\n",
    "    correct = tf.nn.in_top_k(logits, y, 1)\n",
    "    accuracy = tf.reduce_mean(tf.cast(correct, tf.float32))\n",
    "\n",
    "with tf.name_scope(\"init_and_save\"):\n",
    "    init = tf.global_variables_initializer()\n",
    "    saver = tf.train.Saver()\n"
   ]
  },
  {
   "cell_type": "code",
   "execution_count": 9,
   "metadata": {},
   "outputs": [
    {
     "name": "stdout",
     "output_type": "stream",
     "text": [
      "0 Train accuracy: 0.630303 Test accuracy: 0.583333\n",
      "1 Train accuracy: 0.765909 Test accuracy: 0.691667\n",
      "2 Train accuracy: 0.952273 Test accuracy: 0.891667\n",
      "3 Train accuracy: 0.943182 Test accuracy: 0.908333\n",
      "4 Train accuracy: 0.968182 Test accuracy: 0.891667\n",
      "5 Train accuracy: 0.984091 Test accuracy: 0.966667\n",
      "6 Train accuracy: 0.994697 Test accuracy: 0.966667\n",
      "7 Train accuracy: 0.993939 Test accuracy: 0.958333\n",
      "8 Train accuracy: 0.992424 Test accuracy: 0.925\n",
      "9 Train accuracy: 0.990152 Test accuracy: 0.958333\n",
      "10 Train accuracy: 0.99697 Test accuracy: 0.975\n",
      "11 Train accuracy: 0.998485 Test accuracy: 0.966667\n",
      "12 Train accuracy: 1.0 Test accuracy: 0.975\n",
      "13 Train accuracy: 1.0 Test accuracy: 0.95\n",
      "14 Train accuracy: 1.0 Test accuracy: 0.966667\n",
      "End_LOOCV\n",
      "0.966667\n",
      "------------------------------------------------------------\n",
      "0 Train accuracy: 0.440909 Test accuracy: 0.458333\n",
      "1 Train accuracy: 0.490152 Test accuracy: 0.558333\n",
      "2 Train accuracy: 0.790152 Test accuracy: 0.758333\n",
      "3 Train accuracy: 0.943182 Test accuracy: 0.866667\n",
      "4 Train accuracy: 0.952273 Test accuracy: 0.966667\n",
      "5 Train accuracy: 0.944697 Test accuracy: 0.9\n",
      "6 Train accuracy: 0.978788 Test accuracy: 1.0\n",
      "7 Train accuracy: 0.991667 Test accuracy: 0.983333\n",
      "8 Train accuracy: 0.990909 Test accuracy: 0.975\n",
      "9 Train accuracy: 0.993939 Test accuracy: 0.983333\n",
      "10 Train accuracy: 1.0 Test accuracy: 0.991667\n",
      "11 Train accuracy: 1.0 Test accuracy: 0.991667\n",
      "12 Train accuracy: 1.0 Test accuracy: 0.991667\n",
      "13 Train accuracy: 1.0 Test accuracy: 0.991667\n",
      "14 Train accuracy: 1.0 Test accuracy: 0.991667\n",
      "End_LOOCV\n",
      "0.991667\n",
      "------------------------------------------------------------\n",
      "0 Train accuracy: 0.799242 Test accuracy: 0.883333\n",
      "1 Train accuracy: 0.8 Test accuracy: 0.775\n",
      "2 Train accuracy: 0.959848 Test accuracy: 1.0\n",
      "3 Train accuracy: 0.954545 Test accuracy: 1.0\n",
      "4 Train accuracy: 0.988636 Test accuracy: 1.0\n",
      "5 Train accuracy: 0.993182 Test accuracy: 1.0\n",
      "6 Train accuracy: 0.992424 Test accuracy: 0.991667\n",
      "7 Train accuracy: 0.993939 Test accuracy: 0.983333\n",
      "8 Train accuracy: 0.995455 Test accuracy: 0.991667\n",
      "9 Train accuracy: 0.99697 Test accuracy: 0.991667\n",
      "10 Train accuracy: 0.987879 Test accuracy: 0.991667\n",
      "11 Train accuracy: 0.979545 Test accuracy: 1.0\n",
      "12 Train accuracy: 0.986364 Test accuracy: 0.958333\n",
      "13 Train accuracy: 1.0 Test accuracy: 1.0\n",
      "14 Train accuracy: 1.0 Test accuracy: 1.0\n",
      "End_LOOCV\n",
      "1.0\n",
      "------------------------------------------------------------\n",
      "0 Train accuracy: 0.342424 Test accuracy: 0.383333\n",
      "1 Train accuracy: 0.264394 Test accuracy: 0.258333\n",
      "2 Train accuracy: 0.457576 Test accuracy: 0.458333\n",
      "3 Train accuracy: 0.720455 Test accuracy: 0.658333\n",
      "4 Train accuracy: 0.934848 Test accuracy: 0.85\n",
      "5 Train accuracy: 0.955303 Test accuracy: 0.858333\n",
      "6 Train accuracy: 0.968182 Test accuracy: 0.875\n",
      "7 Train accuracy: 0.975758 Test accuracy: 0.883333\n",
      "8 Train accuracy: 0.960606 Test accuracy: 0.85\n",
      "9 Train accuracy: 0.977273 Test accuracy: 0.883333\n",
      "10 Train accuracy: 0.980303 Test accuracy: 0.933333\n",
      "11 Train accuracy: 0.943939 Test accuracy: 0.891667\n",
      "12 Train accuracy: 0.978788 Test accuracy: 0.95\n",
      "13 Train accuracy: 0.985606 Test accuracy: 0.958333\n",
      "14 Train accuracy: 0.995455 Test accuracy: 0.958333\n",
      "End_LOOCV\n",
      "0.958333\n",
      "------------------------------------------------------------\n",
      "0 Train accuracy: 0.615152 Test accuracy: 0.35\n",
      "1 Train accuracy: 0.823485 Test accuracy: 0.541667\n",
      "2 Train accuracy: 0.943182 Test accuracy: 0.825\n",
      "3 Train accuracy: 0.978788 Test accuracy: 0.833333\n",
      "4 Train accuracy: 0.981061 Test accuracy: 0.841667\n",
      "5 Train accuracy: 0.997727 Test accuracy: 0.891667\n",
      "6 Train accuracy: 0.996212 Test accuracy: 0.891667\n",
      "7 Train accuracy: 0.99697 Test accuracy: 0.891667\n",
      "8 Train accuracy: 0.996212 Test accuracy: 0.85\n",
      "9 Train accuracy: 1.0 Test accuracy: 0.891667\n",
      "10 Train accuracy: 1.0 Test accuracy: 0.891667\n",
      "11 Train accuracy: 1.0 Test accuracy: 0.891667\n",
      "12 Train accuracy: 1.0 Test accuracy: 0.891667\n",
      "13 Train accuracy: 1.0 Test accuracy: 0.891667\n",
      "14 Train accuracy: 1.0 Test accuracy: 0.891667\n",
      "End_LOOCV\n",
      "0.891667\n",
      "------------------------------------------------------------\n",
      "0 Train accuracy: 0.706061 Test accuracy: 0.608333\n",
      "1 Train accuracy: 0.819697 Test accuracy: 0.858333\n",
      "2 Train accuracy: 0.958333 Test accuracy: 0.891667\n",
      "3 Train accuracy: 0.987121 Test accuracy: 0.941667\n",
      "4 Train accuracy: 0.917424 Test accuracy: 0.816667\n",
      "5 Train accuracy: 0.706818 Test accuracy: 0.716667\n",
      "6 Train accuracy: 0.987879 Test accuracy: 0.958333\n",
      "7 Train accuracy: 0.990909 Test accuracy: 0.95\n",
      "8 Train accuracy: 0.995455 Test accuracy: 0.958333\n",
      "9 Train accuracy: 0.999242 Test accuracy: 0.991667\n",
      "10 Train accuracy: 0.983333 Test accuracy: 0.891667\n",
      "11 Train accuracy: 0.999242 Test accuracy: 0.975\n",
      "12 Train accuracy: 1.0 Test accuracy: 0.975\n",
      "13 Train accuracy: 1.0 Test accuracy: 0.975\n",
      "14 Train accuracy: 1.0 Test accuracy: 0.991667\n",
      "End_LOOCV\n",
      "0.991667\n",
      "------------------------------------------------------------\n",
      "0 Train accuracy: 0.349242 Test accuracy: 0.416667\n",
      "1 Train accuracy: 0.398485 Test accuracy: 0.466667\n",
      "2 Train accuracy: 0.540909 Test accuracy: 0.608333\n",
      "3 Train accuracy: 0.580303 Test accuracy: 0.675\n",
      "4 Train accuracy: 0.681818 Test accuracy: 0.733333\n",
      "5 Train accuracy: 0.80303 Test accuracy: 0.841667\n",
      "6 Train accuracy: 0.910606 Test accuracy: 0.958333\n",
      "7 Train accuracy: 0.964394 Test accuracy: 0.991667\n",
      "8 Train accuracy: 0.970455 Test accuracy: 0.991667\n",
      "9 Train accuracy: 0.983333 Test accuracy: 1.0\n",
      "10 Train accuracy: 0.988636 Test accuracy: 1.0\n",
      "11 Train accuracy: 0.984848 Test accuracy: 0.991667\n",
      "12 Train accuracy: 0.976515 Test accuracy: 0.991667\n",
      "13 Train accuracy: 0.977273 Test accuracy: 0.991667\n",
      "14 Train accuracy: 0.99697 Test accuracy: 1.0\n",
      "End_LOOCV\n",
      "1.0\n",
      "------------------------------------------------------------\n",
      "0 Train accuracy: 0.317424 Test accuracy: 0.325\n",
      "1 Train accuracy: 0.663636 Test accuracy: 0.541667\n",
      "2 Train accuracy: 0.817424 Test accuracy: 0.733333\n",
      "3 Train accuracy: 0.920455 Test accuracy: 0.908333\n",
      "4 Train accuracy: 0.942424 Test accuracy: 0.941667\n",
      "5 Train accuracy: 0.941667 Test accuracy: 0.975\n",
      "6 Train accuracy: 0.984848 Test accuracy: 1.0\n",
      "7 Train accuracy: 0.985606 Test accuracy: 0.991667\n",
      "8 Train accuracy: 0.960606 Test accuracy: 0.991667\n",
      "9 Train accuracy: 0.979545 Test accuracy: 1.0\n",
      "10 Train accuracy: 0.994697 Test accuracy: 1.0\n",
      "11 Train accuracy: 0.999242 Test accuracy: 0.991667\n",
      "12 Train accuracy: 0.99697 Test accuracy: 0.991667\n",
      "13 Train accuracy: 0.999242 Test accuracy: 0.991667\n",
      "14 Train accuracy: 1.0 Test accuracy: 1.0\n",
      "End_LOOCV\n",
      "1.0\n",
      "------------------------------------------------------------\n",
      "0 Train accuracy: 0.461364 Test accuracy: 0.475\n",
      "1 Train accuracy: 0.484848 Test accuracy: 0.416667\n",
      "2 Train accuracy: 0.704545 Test accuracy: 0.666667\n",
      "3 Train accuracy: 0.792424 Test accuracy: 0.733333\n",
      "4 Train accuracy: 0.925758 Test accuracy: 0.866667\n",
      "5 Train accuracy: 0.936364 Test accuracy: 0.875\n",
      "6 Train accuracy: 0.931061 Test accuracy: 0.833333\n",
      "7 Train accuracy: 0.962121 Test accuracy: 0.95\n",
      "8 Train accuracy: 0.993939 Test accuracy: 0.941667\n",
      "9 Train accuracy: 0.993939 Test accuracy: 0.941667\n",
      "10 Train accuracy: 0.966667 Test accuracy: 0.9\n",
      "11 Train accuracy: 0.999242 Test accuracy: 0.941667\n",
      "12 Train accuracy: 1.0 Test accuracy: 0.941667\n",
      "13 Train accuracy: 0.999242 Test accuracy: 0.95\n",
      "14 Train accuracy: 0.999242 Test accuracy: 0.95\n",
      "End_LOOCV\n",
      "0.95\n",
      "------------------------------------------------------------\n",
      "0 Train accuracy: 0.645455 Test accuracy: 0.533333\n",
      "1 Train accuracy: 0.800758 Test accuracy: 0.683333\n",
      "2 Train accuracy: 0.900758 Test accuracy: 0.766667\n",
      "3 Train accuracy: 0.973485 Test accuracy: 0.858333\n",
      "4 Train accuracy: 0.984848 Test accuracy: 0.816667\n",
      "5 Train accuracy: 0.97803 Test accuracy: 0.766667\n",
      "6 Train accuracy: 0.94697 Test accuracy: 0.716667\n",
      "7 Train accuracy: 0.94697 Test accuracy: 0.691667\n",
      "8 Train accuracy: 0.994697 Test accuracy: 0.9\n",
      "9 Train accuracy: 0.993939 Test accuracy: 0.966667\n",
      "10 Train accuracy: 0.997727 Test accuracy: 0.883333\n",
      "11 Train accuracy: 1.0 Test accuracy: 0.975\n",
      "12 Train accuracy: 0.998485 Test accuracy: 0.966667\n",
      "13 Train accuracy: 1.0 Test accuracy: 0.975\n",
      "14 Train accuracy: 1.0 Test accuracy: 0.958333\n",
      "End_LOOCV\n",
      "0.958333\n",
      "------------------------------------------------------------\n",
      "0 Train accuracy: 0.766667 Test accuracy: 0.683333\n"
     ]
    },
    {
     "name": "stdout",
     "output_type": "stream",
     "text": [
      "1 Train accuracy: 0.556061 Test accuracy: 0.383333\n",
      "2 Train accuracy: 0.943182 Test accuracy: 0.75\n",
      "3 Train accuracy: 0.984091 Test accuracy: 0.941667\n",
      "4 Train accuracy: 0.981061 Test accuracy: 0.991667\n",
      "5 Train accuracy: 0.99697 Test accuracy: 0.966667\n",
      "6 Train accuracy: 0.993939 Test accuracy: 0.958333\n",
      "7 Train accuracy: 0.987879 Test accuracy: 0.925\n",
      "8 Train accuracy: 0.967424 Test accuracy: 0.783333\n",
      "9 Train accuracy: 0.998485 Test accuracy: 0.941667\n",
      "10 Train accuracy: 0.999242 Test accuracy: 0.916667\n",
      "11 Train accuracy: 1.0 Test accuracy: 0.925\n",
      "12 Train accuracy: 1.0 Test accuracy: 0.958333\n",
      "13 Train accuracy: 1.0 Test accuracy: 0.958333\n",
      "14 Train accuracy: 1.0 Test accuracy: 0.958333\n",
      "End_LOOCV\n",
      "0.958333\n",
      "------------------------------------------------------------\n",
      "0 Train accuracy: 0.579545 Test accuracy: 0.525\n",
      "1 Train accuracy: 0.915152 Test accuracy: 0.875\n",
      "2 Train accuracy: 0.809091 Test accuracy: 0.775\n",
      "3 Train accuracy: 0.925758 Test accuracy: 0.891667\n",
      "4 Train accuracy: 0.97197 Test accuracy: 0.941667\n",
      "5 Train accuracy: 0.97803 Test accuracy: 0.95\n",
      "6 Train accuracy: 0.986364 Test accuracy: 0.95\n",
      "7 Train accuracy: 0.996212 Test accuracy: 0.975\n",
      "8 Train accuracy: 0.994697 Test accuracy: 0.95\n",
      "9 Train accuracy: 0.998485 Test accuracy: 0.966667\n",
      "10 Train accuracy: 1.0 Test accuracy: 0.975\n",
      "11 Train accuracy: 0.99697 Test accuracy: 0.95\n",
      "12 Train accuracy: 0.998485 Test accuracy: 0.95\n",
      "13 Train accuracy: 0.999242 Test accuracy: 0.966667\n",
      "14 Train accuracy: 1.0 Test accuracy: 0.975\n",
      "End_LOOCV\n",
      "0.975\n",
      "------------------------------------------------------------\n",
      "============================================================\n",
      "final result\n",
      "[0.96666664, 0.99166667, 1.0, 0.95833331, 0.89166665, 0.99166667, 1.0, 1.0, 0.94999999, 0.95833331, 0.95833331, 0.97500002]\n",
      "Test accuracy:  0.970139\n"
     ]
    }
   ],
   "source": [
    "n_epochs = 15\n",
    "batch_size = 30\n",
    "\n",
    "total = []\n",
    "for train_index, test_index in LOOCV.split(X_data, y_data, groups):\n",
    "    #print(\"TRAIN:\", train_index, \"TEST:\", test_index)\n",
    "    X_train, X_test = X_data[train_index], X_data[test_index]\n",
    "    y_train, y_test = y_data[train_index], y_data[test_index]\n",
    "\n",
    "    with tf.Session() as sess:\n",
    "        init.run()\n",
    "        max_test = []\n",
    "        for epoch in range(n_epochs):\n",
    "            for iteration in range(0,len(y_train) // batch_size):\n",
    "    #             print(X_)\n",
    "                X_batch = X_train[(batch_size*iteration):batch_size*(iteration+1)]\n",
    "    #             print(X_batch.shape)\n",
    "                y_batch = y_train[(batch_size*iteration):batch_size*(iteration+1)].reshape(-1,)\n",
    "    #             print(a.shape)\n",
    "    #             y_batch= a#.reshape(-1,)\n",
    "    #             print(y_batch.shape)\n",
    "                sess.run(training_op, feed_dict={X: X_batch, y: y_batch.reshape(-1,)})\n",
    "            acc_train = accuracy.eval(feed_dict={X: X_train, y: y_train.reshape(-1)})\n",
    "            acc_test = accuracy.eval(feed_dict={X: X_test, y: y_test.reshape(-1)})\n",
    "            max_test.append(acc_test)\n",
    "            print(epoch, \"Train accuracy:\", acc_train, \"Test accuracy:\", acc_test)\n",
    "\n",
    "            \n",
    "        total.append(max_test[n_epochs-1])\n",
    "        \n",
    "        save_path = saver.save(sess, \"./my_model_final.ckpt\")\n",
    "        print(\"End_LOOCV\")\n",
    "        print(max_test[n_epochs-1])\n",
    "        print(\"--\"*30) \n",
    "        \n",
    "print(\"==\"*30)\n",
    "print(\"final result\")\n",
    "print(total)\n",
    "print(\"Test accuracy: \", np.mean(total))"
   ]
  },
  {
   "cell_type": "markdown",
   "metadata": {},
   "source": [
    "The accuracy of CNN's last epoch was selected, and the accuracy of each part was as follows.\n",
    "\n",
    "[0.96666664, 0.99166667, 1.0, 0.95833331, 0.89166665, 0.99166667, 1.0, 1.0, 0.94999999, 0.95833331, 0.95833331, 0.97500002]\n",
    "\n",
    "\n",
    "The total average accuracy of this model is  0.9701.\n",
    "\n"
   ]
  },
  {
   "cell_type": "markdown",
   "metadata": {},
   "source": [
    "# Result"
   ]
  },
  {
   "cell_type": "markdown",
   "metadata": {},
   "source": [
    "The total average accuracy of CNN is 0.9701, and\n",
    "\n",
    "the average accurcy of DNN(2 hidden layers) is 0.9264 .\n",
    "\n",
    "The total average accuracy of polynomial SVM is 0.9493 .\n",
    "\n",
    "\n",
    "So, I chose CNN as the final model, because the higher accuracy.\n",
    "\n",
    "but more computational time.\n",
    "\n",
    "If you had more epoch sizes, you can improve performance a little more. but you will not be able to guarantee a higher accuracy considering the speed of computational time.\n"
   ]
  }
 ],
 "metadata": {
  "kernelspec": {
   "display_name": "Python 3",
   "language": "python",
   "name": "python3"
  },
  "language_info": {
   "codemirror_mode": {
    "name": "ipython",
    "version": 3
   },
   "file_extension": ".py",
   "mimetype": "text/x-python",
   "name": "python",
   "nbconvert_exporter": "python",
   "pygments_lexer": "ipython3",
   "version": "3.6.1"
  }
 },
 "nbformat": 4,
 "nbformat_minor": 2
}
