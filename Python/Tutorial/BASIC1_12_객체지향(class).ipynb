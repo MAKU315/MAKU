{
 "cells": [
  {
   "cell_type": "markdown",
   "metadata": {},
   "source": [
    "# 파이썬 기초\n",
    "## 데이터 사이언스 스쿨(https://datascienceschool.net) 을 기초로 합니다."
   ]
  },
  {
   "cell_type": "markdown",
   "metadata": {},
   "source": [
    "## 객체지향 프로그래밍 - 매우 중요하므로 후에 추가\n",
    " * class; init\n"
   ]
  },
  {
   "cell_type": "markdown",
   "metadata": {},
   "source": [
    " * 객체(object)는 서로 1) 연관된 데이터와 2) 그 데이터를 조작하는 함수를\n",
    "     하나의 집합에 모아놓은 것\n",
    " *  집합의 원소 1) 변수나 함수 - member |  attribute(속성)\n",
    " *  객체의 속성(attribute)의 함수는 method(메서드)"
   ]
  },
  {
   "cell_type": "markdown",
   "metadata": {
    "slideshow": {
     "slide_type": "slide"
    }
   },
   "source": [
   "![basic1_12_1](https://raw.githubusercontent.com/MAKU315/Master-project/master/Python/image/basic1_12_1.GIF)"      
    ]
  },
  {
   "cell_type": "markdown",
   "metadata": {},
   "source": [
    "객체지향이 아닌 파이썬 코드"
   ]
  },
  {
   "cell_type": "code",
   "execution_count": 1,
   "metadata": {},
   "outputs": [
    {
     "data": {
      "text/plain": [
       "200"
      ]
     },
     "execution_count": 1,
     "metadata": {},
     "output_type": "execute_result"
    }
   ],
   "source": [
    "h = 10\n",
    "w = 20\n",
    "\n",
    "def area(h, w):\n",
    "    return h*w\n",
    "\n",
    "area(h,w)"
   ]
  },
  {
   "cell_type": "markdown",
   "metadata": {
    "slideshow": {
     "slide_type": "slide"
    }
   },
   "source": [
    "![basic1_12_2](https://raw.githubusercontent.com/MAKU315/Master-project/master/Python/image/basic1_12_2.GIF)"
   ]    
  },
  {
   "cell_type": "markdown",
   "metadata": {},
   "source": [
    " 즉, 객체지향 프로그래밍은 변수, 함수를 객체(object)를 묶는다"
   ]
  },
  {
   "cell_type": "code",
   "execution_count": 2,
   "metadata": {},
   "outputs": [],
   "source": [
    "class Recta_area(object):\n",
    "    def __init__(self, h , v):\n",
    "        self.h = h\n",
    "        self.v = v\n",
    "    def area(self):\n",
    "        return self.h * self.v"
   ]
  },
  {
   "cell_type": "code",
   "execution_count": 3,
   "metadata": {},
   "outputs": [
    {
     "data": {
      "text/plain": [
       "200"
      ]
     },
     "execution_count": 3,
     "metadata": {},
     "output_type": "execute_result"
    }
   ],
   "source": [
    "r = Recta_area(10, 20)\n",
    "r.area()"
   ]
  },
  {
   "cell_type": "markdown",
   "metadata": {},
   "source": [
    "*  클래스(class) 구현\n",
    "*  r이 객체이며, 변수 h와 v & 함수 area 가 묶임\n",
    "*  객체.~ 속성 or 함수"
   ]
  },
  {
   "cell_type": "code",
   "execution_count": 4,
   "metadata": {},
   "outputs": [
    {
     "data": {
      "text/plain": [
       "20"
      ]
     },
     "execution_count": 4,
     "metadata": {},
     "output_type": "execute_result"
    }
   ],
   "source": [
    "r.v"
   ]
  },
  {
   "cell_type": "markdown",
   "metadata": {},
   "source": [
    "## 클래스(Class)\n",
    "*  class Recta_area를 활용하여 객체 r을 만듬\n",
    "*  class를 활용하여 많은 객체 들을 만들 수 있음"
   ]
  },
  {
   "cell_type": "code",
   "execution_count": 5,
   "metadata": {},
   "outputs": [],
   "source": [
    "a = Recta_area(1, 1)   # 가로 1, 세로 1인 사각형\n",
    "b = Recta_area(2, 1)   # 가로 2, 세로 1인 사각형\n",
    "c = Recta_area(4, 2)   # 가로 4, 세로 2인 사각형\n",
    "d = Recta_area(6, 3)   # 가로 6, 세로 3인 사각형\n",
    "e = Recta_area(8, 5)   # 가로 8, 세로 5인 사각형"
   ]
  },
  {
   "cell_type": "code",
   "execution_count": 6,
   "metadata": {},
   "outputs": [
    {
     "name": "stdout",
     "output_type": "stream",
     "text": [
      "1\n"
     ]
    }
   ],
   "source": [
    "print(a.area())"
   ]
  },
  {
   "cell_type": "markdown",
   "metadata": {},
   "source": [
    "## 생성자"
   ]
  },
    {
   "cell_type": "markdown",
   "metadata": {
    "slideshow": {
     "slide_type": "slide"
    }
   },
   "source": [
    "![basic1_12_3](https://raw.githubusercontent.com/MAKU315/Master-project/master/Python/image/basic1_12_3.GIF)"
   ]    
  },
  {
   "cell_type": "markdown",
   "metadata": {},
   "source": [
    "*  __init__ : 생성자(constructor) - 클래스이름 을 함수처럼 호출 시, 실제로 init으로 정의된 생성자 함수가 호출\n",
    "*  생성자(constructor)내에서 생성자 호출 시 넣은 입력 변수, 인자의 값을 속성값으로 저장"
   ]
  },
    {
   "cell_type": "markdown",
   "metadata": {
    "slideshow": {
     "slide_type": "slide"
    }
   },
   "source": [
    "![basic1_12_4](https://raw.githubusercontent.com/MAKU315/Master-project/master/Python/image/basic1_12_4.GIF)"
   ]    
  },
  {
   "cell_type": "code",
   "execution_count": 7,
   "metadata": {},
   "outputs": [
    {
     "data": {
      "text/plain": [
       "78.0"
      ]
     },
     "execution_count": 7,
     "metadata": {},
     "output_type": "execute_result"
    }
   ],
   "source": [
    "class tri_area: # object 없어도 됨\n",
    "    def __init__(self, b, h):\n",
    "        self.b = b\n",
    "        self.h = h\n",
    "    \n",
    "    def area(self):\n",
    "        return self.b*self.h/2\n",
    "        \n",
    "    \n",
    "ta = tri_area(12,13)\n",
    "ta.area()\n"
   ]
  },
   {
   "cell_type": "markdown",
   "metadata": {
    "slideshow": {
     "slide_type": "slide"
    }
   },
   "source": [
    "![basic1_12_5](https://raw.githubusercontent.com/MAKU315/Master-project/master/Python/image/basic1_12_5.GIF)"
   ]    
  },
  {
   "cell_type": "code",
   "execution_count": 8,
   "metadata": {},
   "outputs": [],
   "source": [
    "class rec_volume:\n",
    "    def __init__(self, a, b, h):\n",
    "        self.a = a\n",
    "        self.b = b\n",
    "        self.h = h\n",
    "    def volume(self):\n",
    "        return self.a*self.b*self.h\n",
    "    def surface(self):\n",
    "        return 2*(self.a*self.b + self.b*self.h + self.a*self.h)"
   ]
  },
  {
   "cell_type": "code",
   "execution_count": 9,
   "metadata": {},
   "outputs": [
    {
     "name": "stdout",
     "output_type": "stream",
     "text": [
      "120\n",
      "164\n"
     ]
    }
   ],
   "source": [
    "rv = rec_volume(3,4,10)\n",
    "rs = rec_volume(3,4,10)\n",
    "print(rv.volume())\n",
    "print(rs.surface())\n"
   ]
  },
  {
   "cell_type": "markdown",
   "metadata": {},
   "source": [
    "## 클래스의 객체"
   ]
  },
    {
   "cell_type": "markdown",
   "metadata": {
    "slideshow": {
     "slide_type": "slide"
    }
   },
   "source": [
    "![basic1_12_6](https://raw.githubusercontent.com/MAKU315/Master-project/master/Python/image/basic1_12_6.GIF)"
   ]    
  },
  {
   "cell_type": "code",
   "execution_count": 10,
   "metadata": {},
   "outputs": [],
   "source": [
    "class Character:\n",
    "    def __init__(self,life,atacked):\n",
    "        self.life = life\n",
    "        self.atacked = atacked\n",
    "    def life_gage(self):\n",
    "        life = self.life - self.atacked*10\n",
    "    \n",
    "    "
   ]
  },
  {
   "cell_type": "code",
   "execution_count": 11,
   "metadata": {},
   "outputs": [],
   "source": [
    "class Character:\n",
    "    def __init__(self):\n",
    "        self.life = 1000\n",
    "\n",
    "    def attacked(self):\n",
    "        self.life -= 10\n",
    "        print(u\"공격받음! 생명력 =\", self.life)"
   ]
  },
  {
   "cell_type": "code",
   "execution_count": 12,
   "metadata": {},
   "outputs": [],
   "source": [
    "a = Character()\n",
    "b = Character()\n",
    "c = Character()"
   ]
  },
  {
   "cell_type": "code",
   "execution_count": 13,
   "metadata": {},
   "outputs": [
    {
     "name": "stdout",
     "output_type": "stream",
     "text": [
      "공격받음! 생명력 = 990\n"
     ]
    }
   ],
   "source": [
    "a.attacked()"
   ]
  },
  {
   "cell_type": "code",
   "execution_count": 14,
   "metadata": {},
   "outputs": [
    {
     "name": "stdout",
     "output_type": "stream",
     "text": [
      "공격받음! 생명력 = 980\n",
      "공격받음! 생명력 = 970\n"
     ]
    }
   ],
   "source": [
    "a.attacked()\n",
    "a.attacked()"
   ]
  },
  {
   "cell_type": "code",
   "execution_count": 15,
   "metadata": {},
   "outputs": [
    {
     "data": {
      "text/plain": [
       "(970, 1000, 1000)"
      ]
     },
     "execution_count": 15,
     "metadata": {},
     "output_type": "execute_result"
    }
   ],
   "source": [
    "a.life, b.life, c.life"
   ]
  },
  {
   "cell_type": "markdown",
   "metadata": {},
   "source": [
    "## 클래스의 상속(inheritance)"
   ]
  },
  {
   "cell_type": "markdown",
   "metadata": {
    "slideshow": {
     "slide_type": "slide"
    }
   },
   "source": [
    "![basic1_12_7](https://raw.githubusercontent.com/MAKU315/Master-project/master/Python/image/basic1_12_7.GIF)"
   ]    
  },
  {
   "cell_type": "markdown",
   "metadata": {},
   "source": [
    "*  즉, 부모 class를 다시 재 사용하여 다른 class로 만들 수 있다\n",
    "* __매우 중요__"
   ]
  },
   {
   "cell_type": "markdown",
   "metadata": {
    "slideshow": {
     "slide_type": "slide"
    }
   },
   "source": [
    "![basic1_12_8](https://raw.githubusercontent.com/MAKU315/Master-project/master/Python/image/basic1_12_8.GIF)"
   ]    
  },
  {
   "cell_type": "code",
   "execution_count": 16,
   "metadata": {},
   "outputs": [],
   "source": [
    "class Warrior(Character):\n",
    "\n",
    "    def __init__(self):\n",
    "        super(Warrior, self).__init__() # 이전의 init 호출\n",
    "        self.strength = 15\n",
    "        self.intelligence = 5"
   ]
  },
  {
   "cell_type": "code",
   "execution_count": 17,
   "metadata": {},
   "outputs": [],
   "source": [
    "class Wizard(Character):\n",
    "\n",
    "    def __init__(self):\n",
    "        super(Wizard, self).__init__()\n",
    "        self.strength = 5\n",
    "        self.intelligence = 15"
   ]
  },
  {
   "cell_type": "code",
   "execution_count": 18,
   "metadata": {},
   "outputs": [],
   "source": [
    "d = Warrior()\n",
    "e = Wizard()"
   ]
  },
  {
   "cell_type": "code",
   "execution_count": 19,
   "metadata": {},
   "outputs": [
    {
     "data": {
      "text/plain": [
       "1000"
      ]
     },
     "execution_count": 19,
     "metadata": {},
     "output_type": "execute_result"
    }
   ],
   "source": [
    "d.life"
   ]
  },
  {
   "cell_type": "code",
   "execution_count": 20,
   "metadata": {},
   "outputs": [
    {
     "data": {
      "text/plain": [
       "(15, 5)"
      ]
     },
     "execution_count": 20,
     "metadata": {},
     "output_type": "execute_result"
    }
   ],
   "source": [
    "d.strength, e.strength"
   ]
  },
  {
   "cell_type": "code",
   "execution_count": 21,
   "metadata": {},
   "outputs": [
    {
     "name": "stdout",
     "output_type": "stream",
     "text": [
      "공격받음! 생명력 = 990\n"
     ]
    }
   ],
   "source": [
    "d.attacked()"
   ]
  },
  {
   "cell_type": "markdown",
   "metadata": {},
   "source": [
    "## 매서드 오버라이등(Method Overriding)"
   ]
  },
  {
   "cell_type": "markdown",
   "metadata": {},
   "source": [
    "*  여러 클래스에 공통되는 매서드 를 -> 같은 이름, 다른 함수로 변경 가능"
   ]
  },
  {
   "cell_type": "code",
   "execution_count": 22,
   "metadata": {},
   "outputs": [],
   "source": [
    "class Character:\n",
    "\n",
    "    def __init__(self):\n",
    "        self.life = 1000 # basic attribute\n",
    "        self.strength = 10\n",
    "        self.intelligence = 10\n",
    "\n",
    "    def attacked(self):\n",
    "        self.life -= 10\n",
    "        print(u\"공격받음! 생명력 =\", self.life)\n",
    "\n",
    "    def attack(self):\n",
    "        print(u\"공격!\")"
   ]
  },
  {
   "cell_type": "code",
   "execution_count": 23,
   "metadata": {},
   "outputs": [
    {
     "name": "stdout",
     "output_type": "stream",
     "text": [
      "공격!\n",
      "공격!\n"
     ]
    }
   ],
   "source": [
    "print(u\"공격!\") # 유니 코드의 문자열\n",
    "print(\"공격!\")"
   ]
  },
  {
   "cell_type": "code",
   "execution_count": 24,
   "metadata": {},
   "outputs": [],
   "source": [
    "class Warrior(Character):\n",
    "\n",
    "    def __init__(self):\n",
    "        super(Warrior, self).__init__() # parent class의 init 가지고 옴\n",
    "        self.strength = 15 # parent의 attribute 변환\n",
    "        self.intelligence = 5\n",
    "\n",
    "    def attack(self):  # parent의 method 변환\n",
    "        print(u\"육탄 공격!\")"
   ]
  },
  {
   "cell_type": "code",
   "execution_count": 25,
   "metadata": {},
   "outputs": [],
   "source": [
    "class Wizard(Character):\n",
    "\n",
    "    def __init__(self):\n",
    "        super(Wizard, self).__init__()\n",
    "        self.strength = 5\n",
    "        self.intelligence = 15\n",
    "\n",
    "    def attack(self):\n",
    "        print(u\"마법 공격!\")\n",
    "    \n",
    "    def attacked(self):\n",
    "        self.life -= 30\n",
    "        print(u\"공격받음! 생명력 =\", self.life)"
   ]
  },
  {
   "cell_type": "code",
   "execution_count": 26,
   "metadata": {},
   "outputs": [],
   "source": [
    "a = Character()\n",
    "b = Warrior()\n",
    "c = Wizard()"
   ]
  },
  {
   "cell_type": "code",
   "execution_count": 27,
   "metadata": {},
   "outputs": [
    {
     "name": "stdout",
     "output_type": "stream",
     "text": [
      "10\n",
      "15\n",
      "5\n"
     ]
    }
   ],
   "source": [
    "print(a.strength);print(b.strength);print(c.strength)"
   ]
  },
  {
   "cell_type": "code",
   "execution_count": 28,
   "metadata": {},
   "outputs": [
    {
     "name": "stdout",
     "output_type": "stream",
     "text": [
      "공격!\n",
      "육탄 공격!\n",
      "마법 공격!\n",
      "None\n"
     ]
    }
   ],
   "source": [
    "a.attack()\n",
    "b.attack()\n",
    "print(c.attack())"
   ]
  },
  {
   "cell_type": "code",
   "execution_count": 29,
   "metadata": {},
   "outputs": [
    {
     "name": "stdout",
     "output_type": "stream",
     "text": [
      "공격받음! 생명력 = 990\n",
      "공격받음! 생명력 = 980\n",
      "공격받음! 생명력 = 970\n",
      "공격받음! 생명력 = 970\n"
     ]
    }
   ],
   "source": [
    "a.attacked()\n",
    "a.attacked()\n",
    "a.attacked()\n",
    "c.attacked()"
   ]
  },
  {
   "cell_type": "markdown",
   "metadata": {},
   "source": [
    "## 오버로딩(Overloading)\n",
    "*  C와 JAVA에는 지원\n",
    "*  같은 메서드가 자료형이나 개수가 다른 attribute를 받을 수 있음\n"
   ]
  },
  {
   "cell_type": "markdown",
   "metadata": {
    "slideshow": {
     "slide_type": "slide"
    }
   },
   "source": [
    "![basic1_12_9](https://raw.githubusercontent.com/MAKU315/Master-project/master/Python/image/basic1_12_9.GIF)"
   ]    
  },
  {
   "cell_type": "code",
   "execution_count": 30,
   "metadata": {},
   "outputs": [],
   "source": [
    "class Wizard(Character):\n",
    "\n",
    "    def __init__(self):\n",
    "        super(Wizard, self).__init__()\n",
    "        self.strength = 5\n",
    "        self.intelligence = 15\n",
    "\n",
    "    def attack(self):\n",
    "        print(u\"마법 공격!\")\n",
    "        self.life += 5\n",
    "    \n",
    "    def attacked(self):\n",
    "        self.life -= 30\n",
    "        print(u\"공격받음! 생명력 =\", self.life)"
   ]
  },
  {
   "cell_type": "code",
   "execution_count": 31,
   "metadata": {},
   "outputs": [],
   "source": [
    "c = Wizard()"
   ]
  },
  {
   "cell_type": "code",
   "execution_count": 32,
   "metadata": {},
   "outputs": [
    {
     "name": "stdout",
     "output_type": "stream",
     "text": [
      "공격받음! 생명력 = 970\n",
      "마법 공격!\n"
     ]
    },
    {
     "data": {
      "text/plain": [
       "975"
      ]
     },
     "execution_count": 32,
     "metadata": {},
     "output_type": "execute_result"
    }
   ],
   "source": [
    "c.attacked()\n",
    "c.attack() # method 사용\n",
    "c.life # attribute 불러오기"
   ]
  },
  {
   "cell_type": "markdown",
   "metadata": {
    "slideshow": {
     "slide_type": "slide"
    }
   },
   "source": [
    "![basic1_12_10](https://raw.githubusercontent.com/MAKU315/Master-project/master/Python/image/basic1_12_10.GIF)"
   ]    
  },
  {
   "cell_type": "code",
   "execution_count": 33,
   "metadata": {},
   "outputs": [],
   "source": [
    "class Car: \n",
    "    def __init__(self):\n",
    "        self.max_speed = 160\n",
    "        self.speed = 0\n",
    "    \n",
    "    def speed_up(self):\n",
    "        self.speed += 20\n",
    "        if self.speed >160:\n",
    "            self.speed = 160\n",
    "        \n",
    "    def speed_down(self):\n",
    "        self.speed -= 50\n",
    "        if self.speed < 0:\n",
    "            self.speed = 0\n"
   ]
  },
  {
   "cell_type": "code",
   "execution_count": 34,
   "metadata": {},
   "outputs": [],
   "source": [
    "a = Car()"
   ]
  },
  {
   "cell_type": "code",
   "execution_count": 35,
   "metadata": {},
   "outputs": [
    {
     "name": "stdout",
     "output_type": "stream",
     "text": [
      "80\n",
      "30\n",
      "0\n"
     ]
    }
   ],
   "source": [
    "a.speed_up()\n",
    "a.speed_up()\n",
    "a.speed_up()\n",
    "a.speed_up()\n",
    "print(a.speed)\n",
    "a.speed_down()\n",
    "print(a.speed)\n",
    "a.speed_down()\n",
    "a.speed_down()\n",
    "print(a.speed)"
   ]
  },
  {
   "cell_type": "markdown",
   "metadata": {
    "slideshow": {
     "slide_type": "slide"
    }
   },
   "source": [
    "![basic1_12_11](https://raw.githubusercontent.com/MAKU315/Master-project/master/Python/image/basic1_12_11.GIF)"
   ]    
  },
  {
   "cell_type": "code",
   "execution_count": 36,
   "metadata": {},
   "outputs": [],
   "source": [
    "class SportCar(Car):\n",
    "    def __init__(self):\n",
    "        super(SportCar, self).__init__()\n",
    "        self.max_speed = 200\n",
    "    def speed_up(self):\n",
    "        self.speed += 45\n",
    "        if self.speed > self.max_speed :\n",
    "            self.speed = self.max_speed \n",
    "        \n",
    "    def speed_down(self):\n",
    "        self.speed -= 45\n",
    "        if self.speed < 0:\n",
    "            self.speed = 0"
   ]
  },
  {
   "cell_type": "code",
   "execution_count": 37,
   "metadata": {},
   "outputs": [],
   "source": [
    "class truck(Car):\n",
    "    def __init(self):\n",
    "        super(truck,self).__init__()\n",
    "        self.max_speed = 100\n",
    "    def speed_up(self):\n",
    "        self.speed += 15\n",
    "        if self.speed > self.max_speed :\n",
    "            self.speed = self.max_speed \n",
    "        \n",
    "    def speed_down(self):\n",
    "        self.speed -= 15\n",
    "        if self.speed < 0:\n",
    "            self.speed = 0\n",
    "        "
   ]
  },
  {
   "cell_type": "code",
   "execution_count": 38,
   "metadata": {},
   "outputs": [],
   "source": [
    "x = SportCar()"
   ]
  },
  {
   "cell_type": "code",
   "execution_count": 39,
   "metadata": {},
   "outputs": [
    {
     "name": "stdout",
     "output_type": "stream",
     "text": [
      "90\n",
      "180\n",
      "200\n"
     ]
    }
   ],
   "source": [
    "x.speed_up()\n",
    "x.speed_up()\n",
    "print(x.speed)\n",
    "x.speed_up()\n",
    "x.speed_up()\n",
    "print(x.speed)\n",
    "x.speed_up()\n",
    "x.speed_up()\n",
    "print(x.speed)"
   ]
  },
  {
   "cell_type": "code",
   "execution_count": 40,
   "metadata": {},
   "outputs": [
    {
     "name": "stdout",
     "output_type": "stream",
     "text": [
      "30\n",
      "60\n",
      "90\n"
     ]
    }
   ],
   "source": [
    "y = truck()\n",
    "\n",
    "y.speed_up()\n",
    "y.speed_up()\n",
    "print(y.speed)\n",
    "y.speed_up()\n",
    "y.speed_up()\n",
    "print(y.speed)\n",
    "y.speed_up()\n",
    "y.speed_up()\n",
    "print(y.speed)"
   ]
  },
  {
   "cell_type": "code",
   "execution_count": 41,
   "metadata": {},
   "outputs": [
    {
     "data": {
      "text/plain": [
       "110"
      ]
     },
     "execution_count": 41,
     "metadata": {},
     "output_type": "execute_result"
    }
   ],
   "source": [
    "x.speed - y.speed"
   ]
  },
  {
   "cell_type": "markdown",
   "metadata": {},
   "source": [
    "## Special Method\n",
    "*  __ repr __ :  변수의 값 호출 - representation의 약자\n",
    "*  __ str __ :  변수의 값을 문자열로 변환\n",
    "*  __ getitem __ : list or dictonary 처럼 indexing 가능\n"
   ]
  },
  {
   "cell_type": "markdown",
   "metadata": {},
   "source": [
    "복소수 클레스"
   ]
  },
  {
   "cell_type": "code",
   "execution_count": 42,
   "metadata": {},
   "outputs": [],
   "source": [
    "class Complex(object):\n",
    "\n",
    "    def __init__(self, realpart, imagpart):\n",
    "        self.r = realpart\n",
    "        self.i = imagpart"
   ]
  },
  {
   "cell_type": "code",
   "execution_count": 43,
   "metadata": {},
   "outputs": [
    {
     "data": {
      "text/plain": [
       "<__main__.Complex at 0x1995dd835f8>"
      ]
     },
     "execution_count": 43,
     "metadata": {},
     "output_type": "execute_result"
    }
   ],
   "source": [
    "c = Complex(1, 2)\n",
    "c"
   ]
  },
  {
   "cell_type": "code",
   "execution_count": 44,
   "metadata": {},
   "outputs": [
    {
     "data": {
      "text/plain": [
       "'<__main__.Complex object at 0x000001995DD835F8>'"
      ]
     },
     "execution_count": 44,
     "metadata": {},
     "output_type": "execute_result"
    }
   ],
   "source": [
    "str(c)"
   ]
  },
  {
   "cell_type": "code",
   "execution_count": 45,
   "metadata": {},
   "outputs": [],
   "source": [
    "class Complex2(Complex):\n",
    "\n",
    "    def __repr__(self):\n",
    "        return \"Complex: real = %f imag = %f\" % (self.r, self.i)\n",
    "\n",
    "    def __str__(self):\n",
    "        return \"[for str] \" + self.__repr__()"
   ]
  },
  {
   "cell_type": "code",
   "execution_count": 46,
   "metadata": {},
   "outputs": [
    {
     "data": {
      "text/plain": [
       "Complex: real = 1.000000 imag = 1.000000"
      ]
     },
     "execution_count": 46,
     "metadata": {},
     "output_type": "execute_result"
    }
   ],
   "source": [
    "c2 = Complex2(1, 1)\n",
    "c2"
   ]
  },
  {
   "cell_type": "code",
   "execution_count": 47,
   "metadata": {},
   "outputs": [
    {
     "data": {
      "text/plain": [
       "'[for str] Complex: real = 1.000000 imag = 1.000000'"
      ]
     },
     "execution_count": 47,
     "metadata": {},
     "output_type": "execute_result"
    }
   ],
   "source": [
    "str(c2)"
   ]
  },
  {
   "cell_type": "code",
   "execution_count": 48,
   "metadata": {},
   "outputs": [],
   "source": [
    "class Complex3(Complex2):\n",
    "\n",
    "    def __getitem__(self, key):\n",
    "        if key == \"r\":\n",
    "            return self.r\n",
    "        if key == \"i\":\n",
    "            return self.i"
   ]
  },
  {
   "cell_type": "code",
   "execution_count": 49,
   "metadata": {},
   "outputs": [
    {
     "data": {
      "text/plain": [
       "Complex: real = 1.000000 imag = 2.000000"
      ]
     },
     "execution_count": 49,
     "metadata": {},
     "output_type": "execute_result"
    }
   ],
   "source": [
    "c3 = Complex3(1, 2)\n",
    "c3"
   ]
  },
  {
   "cell_type": "code",
   "execution_count": 50,
   "metadata": {},
   "outputs": [
    {
     "data": {
      "text/plain": [
       "2"
      ]
     },
     "execution_count": 50,
     "metadata": {},
     "output_type": "execute_result"
    }
   ],
   "source": [
    "c3[\"i\"]"
   ]
  },
  {
   "cell_type": "markdown",
   "metadata": {
    "slideshow": {
     "slide_type": "slide"
    }
   },
   "source": [
    "![basic1_12_12](Master-project/Python/image/basic1_12_12.png)"
   ]    
  },
  {
   "cell_type": "code",
   "execution_count": 51,
   "metadata": {},
   "outputs": [],
   "source": [
    "class score:\n",
    "    def __init__(self,id,name,math,ENG):\n",
    "        self.id = id\n",
    "        self.name = name\n",
    "        self.math = math\n",
    "        self.ENG = ENG\n",
    "    def __repr__(self):\n",
    "        return \"나는 %s 학번의 %s 입니다.\" % (self.id, self.name)\n",
    "    def __str__(self):\n",
    "        return \"음.. \" + self.__repr__()\n",
    "    def __getitem__(self,key):\n",
    "        if key == \"math\":\n",
    "            return self.math\n",
    "        if key == \"english\":\n",
    "            return self.ENG"
   ]
  },
  {
   "cell_type": "code",
   "execution_count": 52,
   "metadata": {},
   "outputs": [],
   "source": [
    "x = score(\"1001\",\"마규\",10,23)"
   ]
  },
  {
   "cell_type": "code",
   "execution_count": 53,
   "metadata": {},
   "outputs": [
    {
     "data": {
      "text/plain": [
       "나는 1001 학번의 마규 입니다."
      ]
     },
     "execution_count": 53,
     "metadata": {},
     "output_type": "execute_result"
    }
   ],
   "source": [
    "x"
   ]
  },
  {
   "cell_type": "code",
   "execution_count": 54,
   "metadata": {},
   "outputs": [
    {
     "data": {
      "text/plain": [
       "'음.. 나는 1001 학번의 마규 입니다.'"
      ]
     },
     "execution_count": 54,
     "metadata": {},
     "output_type": "execute_result"
    }
   ],
   "source": [
    "str(x)"
   ]
  },
  {
   "cell_type": "code",
   "execution_count": 55,
   "metadata": {},
   "outputs": [
    {
     "data": {
      "text/plain": [
       "10"
      ]
     },
     "execution_count": 55,
     "metadata": {},
     "output_type": "execute_result"
    }
   ],
   "source": [
    "x[\"math\"]"
   ]
  },
  {
   "cell_type": "code",
   "execution_count": 56,
   "metadata": {},
   "outputs": [
    {
     "data": {
      "text/plain": [
       "23"
      ]
     },
     "execution_count": 56,
     "metadata": {},
     "output_type": "execute_result"
    }
   ],
   "source": [
    "x[\"english\"]"
   ]
  }
 ],
 "metadata": {
  "kernelspec": {
   "display_name": "Python 3",
   "language": "python",
   "name": "python3"
  },
  "language_info": {
   "codemirror_mode": {
    "name": "ipython",
    "version": 3
   },
   "file_extension": ".py",
   "mimetype": "text/x-python",
   "name": "python",
   "nbconvert_exporter": "python",
   "pygments_lexer": "ipython3",
   "version": "3.6.4"
  }
 },
 "nbformat": 4,
 "nbformat_minor": 2
}
