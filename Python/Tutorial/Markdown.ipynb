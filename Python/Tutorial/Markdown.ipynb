{
 "cells": [
  {
   "cell_type": "code",
   "execution_count": 1,
   "metadata": {},
   "outputs": [
    {
     "ename": "SyntaxError",
     "evalue": "invalid syntax (<ipython-input-1-539d8711af89>, line 1)",
     "output_type": "error",
     "traceback": [
      "\u001b[1;36m  File \u001b[1;32m\"<ipython-input-1-539d8711af89>\"\u001b[1;36m, line \u001b[1;32m1\u001b[0m\n\u001b[1;33m    <ul>\u001b[0m\n\u001b[1;37m    ^\u001b[0m\n\u001b[1;31mSyntaxError\u001b[0m\u001b[1;31m:\u001b[0m invalid syntax\n"
     ]
    }
   ],
   "source": [
    "<ul>\n",
    "<li>Candy.</li>\n",
    "<li>Gum.</li>\n",
    "<li>Booze.</li>\n",
    "</ul>\n"
   ]
  },
  {
   "cell_type": "markdown",
   "metadata": {},
   "source": [
    "<ul>\n",
    "<li>Candy.</li>\n",
    "<li>Gum.</li>\n",
    "<li>Booze.</li>\n",
    "</ul>\n"
   ]
  },
  {
   "cell_type": "code",
   "execution_count": null,
   "metadata": {},
   "outputs": [],
   "source": [
    "<ol>\n",
    "<li>Red</li>\n",
    "<li>Green</li>\n",
    "<li>Blue</li>\n",
    "</ol>"
   ]
  },
  {
   "cell_type": "markdown",
   "metadata": {},
   "source": [
    "<ol>\n",
    "<li>Red</li>\n",
    "<li>Green</li>\n",
    "<li>Blue</li>\n",
    "</ol>"
   ]
  },
  {
   "cell_type": "code",
   "execution_count": 2,
   "metadata": {
    "scrolled": true
   },
   "outputs": [
    {
     "ename": "SyntaxError",
     "evalue": "invalid syntax (<ipython-input-2-e3afa50875ad>, line 1)",
     "output_type": "error",
     "traceback": [
      "\u001b[1;36m  File \u001b[1;32m\"<ipython-input-2-e3afa50875ad>\"\u001b[1;36m, line \u001b[1;32m1\u001b[0m\n\u001b[1;33m    <ul>\u001b[0m\n\u001b[1;37m    ^\u001b[0m\n\u001b[1;31mSyntaxError\u001b[0m\u001b[1;31m:\u001b[0m invalid syntax\n"
     ]
    }
   ],
   "source": [
    "<ul>\n",
    "<li><p>A list item.</p>\n",
    "<p>With multiple paragraphs.</p></li>\n",
    "<li><p>Another item in the list.</p></li>\n",
    "</ul>"
   ]
  },
  {
   "cell_type": "markdown",
   "metadata": {},
   "source": [
    "<ul>\n",
    "<li><p>A list item.</p>\n",
    "<p>With multiple paragraphs.</p></li>\n",
    "<li><p>Another item in the list.</p></li>\n",
    "</ul>"
   ]
  },
  {
   "cell_type": "code",
   "execution_count": null,
   "metadata": {},
   "outputs": [],
   "source": [
    "This is an [example link](https://github.com/MAKU315)."
   ]
  },
  {
   "cell_type": "markdown",
   "metadata": {},
   "source": [
    "This is an [github site](https://github.com/MAKU315)."
   ]
  },
  {
   "cell_type": "code",
   "execution_count": 4,
   "metadata": {},
   "outputs": [
    {
     "ename": "SyntaxError",
     "evalue": "invalid syntax (<ipython-input-4-922d37f965f1>, line 1)",
     "output_type": "error",
     "traceback": [
      "\u001b[1;36m  File \u001b[1;32m\"<ipython-input-4-922d37f965f1>\"\u001b[1;36m, line \u001b[1;32m1\u001b[0m\n\u001b[1;33m    <p>This is an <a href=\"http://example.com/\" title=\"With a Title\">\u001b[0m\n\u001b[1;37m    ^\u001b[0m\n\u001b[1;31mSyntaxError\u001b[0m\u001b[1;31m:\u001b[0m invalid syntax\n"
     ]
    }
   ],
   "source": [
    "<p>This is an <a href=\"http://example.com/\" title=\"With a Title\">\n",
    "example link</a>.</p>"
   ]
  },
  {
   "cell_type": "markdown",
   "metadata": {},
   "source": [
    "<p>This is an <a href=\"http://example.com/\" title=\"With a Title\">\n",
    "example link</a>.</p>"
   ]
  },
  {
   "cell_type": "markdown",
   "metadata": {},
   "source": [
    "This is an H1\n",
    "==\n",
    "\n",
    "\n",
    "This is an H2\n",
    "-------------"
   ]
  },
  {
   "cell_type": "markdown",
   "metadata": {},
   "source": [
    "# This is an H1 #\n",
    "\n",
    "## This is an H2 ##\n",
    "\n",
    "### This is an H3 ######"
   ]
  },
  {
   "cell_type": "markdown",
   "metadata": {},
   "source": [
    "*This text will be italic*\n",
    "_This will also be italic_\n",
    "\n",
    "**This text will be bold**\n",
    "__This will also be bold__\n",
    "\n",
    "_You **can** combine them_"
   ]
  },
  {
   "cell_type": "code",
   "execution_count": 5,
   "metadata": {},
   "outputs": [
    {
     "ename": "SyntaxError",
     "evalue": "invalid syntax (<ipython-input-5-3e622bacc4e8>, line 1)",
     "output_type": "error",
     "traceback": [
      "\u001b[1;36m  File \u001b[1;32m\"<ipython-input-5-3e622bacc4e8>\"\u001b[1;36m, line \u001b[1;32m1\u001b[0m\n\u001b[1;33m    *This text will be italic*\u001b[0m\n\u001b[1;37m             ^\u001b[0m\n\u001b[1;31mSyntaxError\u001b[0m\u001b[1;31m:\u001b[0m invalid syntax\n"
     ]
    }
   ],
   "source": [
    "*This text will be italic*\n",
    "_This will also be italic_\n",
    "\n",
    "**This text will be bold**\n",
    "__This will also be bold__\n",
    "\n",
    "_You **can** combine them_"
   ]
  },
  {
   "cell_type": "code",
   "execution_count": null,
   "metadata": {},
   "outputs": [],
   "source": [
    "* Item 1\n",
    "* Item 2\n",
    "  * Item 2a\n",
    "  * Item 2b"
   ]
  },
  {
   "cell_type": "markdown",
   "metadata": {},
   "source": [
    "* Item 1\n",
    "* Item 2\n",
    "  * Item 2a\n",
    "  * Item 2b"
   ]
  },
  {
   "cell_type": "markdown",
   "metadata": {},
   "source": [
    "- [x] @mentions, #refs, [links](), **formatting**, and <del>tags</del> supported\n",
    "- [x] list syntax required (any unordered or ordered list supported)\n",
    "- [x] this is a complete item\n",
    "- [ ] this is an incomplete item"
   ]
  }
 ],
 "metadata": {
  "kernelspec": {
   "display_name": "Python 3",
   "language": "python",
   "name": "python3"
  },
  "language_info": {
   "codemirror_mode": {
    "name": "ipython",
    "version": 3
   },
   "file_extension": ".py",
   "mimetype": "text/x-python",
   "name": "python",
   "nbconvert_exporter": "python",
   "pygments_lexer": "ipython3",
   "version": "3.6.4"
  }
 },
 "nbformat": 4,
 "nbformat_minor": 2
}
