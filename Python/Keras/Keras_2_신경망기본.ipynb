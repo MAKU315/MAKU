{
 "cells": [
  {
   "cell_type": "markdown",
   "metadata": {},
   "source": [
    "# 2.1 신경망과의 첫 만남\n",
    "---------\n",
    "* keras는 datasets에 mnist와 함께, 여러가지 기본데이터를 가지고 있음\n",
    "   1. 구조\n",
    "   2. 컴파일 단계\n",
    "      * Loss ftn\n",
    "      * Optimizer\n",
    "      * 평가\n",
    "   3. test _ 검정\n",
    "      * evaluate"
   ]
  },
  {
   "cell_type": "code",
   "execution_count": 1,
   "metadata": {},
   "outputs": [
    {
     "name": "stderr",
     "output_type": "stream",
     "text": [
      "C:\\Users\\korea\\Anaconda3\\lib\\site-packages\\h5py\\__init__.py:36: FutureWarning: Conversion of the second argument of issubdtype from `float` to `np.floating` is deprecated. In future, it will be treated as `np.float64 == np.dtype(float).type`.\n",
      "  from ._conv import register_converters as _register_converters\n",
      "Using TensorFlow backend.\n"
     ]
    }
   ],
   "source": [
    "from keras.datasets import cifar10\n",
    "(x_train, y_train), (x_test, y_test) = cifar10.load_data()\n"
   ]
  },
  {
   "cell_type": "code",
   "execution_count": 2,
   "metadata": {},
   "outputs": [],
   "source": [
    "from keras.datasets import mnist\n",
    "(x_train, y_train), (x_test, y_test) = mnist.load_data()\n"
   ]
  },
  {
   "cell_type": "code",
   "execution_count": 3,
   "metadata": {},
   "outputs": [],
   "source": [
    "import numpy as np\n",
    "import pandas as pd"
   ]
  },
  {
   "cell_type": "code",
   "execution_count": 4,
   "metadata": {},
   "outputs": [
    {
     "data": {
      "text/plain": [
       "(60000, 28, 28)"
      ]
     },
     "execution_count": 4,
     "metadata": {},
     "output_type": "execute_result"
    }
   ],
   "source": [
    "x_train.shape"
   ]
  },
  {
   "cell_type": "code",
   "execution_count": 5,
   "metadata": {},
   "outputs": [
    {
     "data": {
      "text/plain": [
       "(60000,)"
      ]
     },
     "execution_count": 5,
     "metadata": {},
     "output_type": "execute_result"
    }
   ],
   "source": [
    "y_train.shape"
   ]
  },
  {
   "cell_type": "code",
   "execution_count": 6,
   "metadata": {},
   "outputs": [
    {
     "data": {
      "text/plain": [
       "array([5, 0, 4, ..., 5, 6, 8], dtype=uint8)"
      ]
     },
     "execution_count": 6,
     "metadata": {},
     "output_type": "execute_result"
    }
   ],
   "source": [
    "y_train"
   ]
  },
  {
   "cell_type": "code",
   "execution_count": 7,
   "metadata": {},
   "outputs": [
    {
     "data": {
      "text/plain": [
       "array([0, 1, 2, 3, 4, 5, 6, 7, 8, 9], dtype=uint8)"
      ]
     },
     "execution_count": 7,
     "metadata": {},
     "output_type": "execute_result"
    }
   ],
   "source": [
    "np.unique(y_train)"
   ]
  },
  {
   "cell_type": "code",
   "execution_count": 8,
   "metadata": {},
   "outputs": [
    {
     "data": {
      "text/plain": [
       "(10000, 28, 28)"
      ]
     },
     "execution_count": 8,
     "metadata": {},
     "output_type": "execute_result"
    }
   ],
   "source": [
    "x_test.shape"
   ]
  },
  {
   "cell_type": "code",
   "execution_count": 9,
   "metadata": {},
   "outputs": [
    {
     "name": "stdout",
     "output_type": "stream",
     "text": [
      "0\n"
     ]
    },
    {
     "data": {
      "text/plain": [
       "255"
      ]
     },
     "execution_count": 9,
     "metadata": {},
     "output_type": "execute_result"
    }
   ],
   "source": [
    "print(np.min(np.unique(x_train)))\n",
    "np.max(np.unique(x_train))"
   ]
  },
  {
   "cell_type": "code",
   "execution_count": 10,
   "metadata": {},
   "outputs": [],
   "source": [
    "train_images = x_train.reshape((60000,28*28))\n",
    "test_images = x_test.reshape((10000,28*28))"
   ]
  },
  {
   "cell_type": "markdown",
   "metadata": {},
   "source": [
    "* scaling : 딥러닝은 스케일에 민감하여, 적절한 전처리 과정 필요\n",
    "* label의 범주화\n",
    "   * to_categorical"
   ]
  },
  {
   "cell_type": "code",
   "execution_count": 11,
   "metadata": {},
   "outputs": [],
   "source": [
    "train_images = train_images.astype('float32')/255\n",
    "test_images = test_images.astype('float32')/255"
   ]
  },
  {
   "cell_type": "code",
   "execution_count": 12,
   "metadata": {},
   "outputs": [],
   "source": [
    "from keras.utils import to_categorical\n",
    "train_labels = to_categorical(y_train)\n",
    "test_labels = to_categorical(y_test)"
   ]
  },
  {
   "cell_type": "code",
   "execution_count": 13,
   "metadata": {},
   "outputs": [],
   "source": [
    "from keras import models\n",
    "from keras import layers\n",
    "\n",
    "network = models.Sequential()\n",
    "network.add(layers.Dense(196, activation='selu',input_shape=(28*28,)))\n",
    "network.add(layers.Dense(10,activation='softmax'))\n",
    "network.compile(optimizer='Adam',loss='categorical_crossentropy',metrics=['acc','mae'])"
   ]
  },
  {
   "cell_type": "code",
   "execution_count": 14,
   "metadata": {},
   "outputs": [
    {
     "name": "stdout",
     "output_type": "stream",
     "text": [
      "Epoch 1/10\n",
      "60000/60000 [==============================] - 1s 23us/step - loss: 0.3533 - acc: 0.8994 - mean_absolute_error: 0.0351\n",
      "Epoch 2/10\n",
      "60000/60000 [==============================] - 1s 20us/step - loss: 0.2275 - acc: 0.9346 - mean_absolute_error: 0.0223\n",
      "Epoch 3/10\n",
      "60000/60000 [==============================] - 1s 20us/step - loss: 0.1685 - acc: 0.9526 - mean_absolute_error: 0.0172\n",
      "Epoch 4/10\n",
      "60000/60000 [==============================] - 1s 20us/step - loss: 0.1319 - acc: 0.9619 - mean_absolute_error: 0.0138\n",
      "Epoch 5/10\n",
      "60000/60000 [==============================] - 1s 20us/step - loss: 0.1045 - acc: 0.9699 - mean_absolute_error: 0.0114\n",
      "Epoch 6/10\n",
      "60000/60000 [==============================] - 1s 20us/step - loss: 0.0856 - acc: 0.9745 - mean_absolute_error: 0.0096\n",
      "Epoch 7/10\n",
      "60000/60000 [==============================] - 1s 19us/step - loss: 0.0722 - acc: 0.9790 - mean_absolute_error: 0.0082\n",
      "Epoch 8/10\n",
      "60000/60000 [==============================] - 1s 18us/step - loss: 0.0602 - acc: 0.9824 - mean_absolute_error: 0.0070\n",
      "Epoch 9/10\n",
      "60000/60000 [==============================] - 1s 19us/step - loss: 0.0520 - acc: 0.9850 - mean_absolute_error: 0.0061\n",
      "Epoch 10/10\n",
      "60000/60000 [==============================] - 1s 20us/step - loss: 0.0442 - acc: 0.9866 - mean_absolute_error: 0.0054\n"
     ]
    },
    {
     "data": {
      "text/plain": [
       "<keras.callbacks.History at 0x1ce8565ada0>"
      ]
     },
     "execution_count": 14,
     "metadata": {},
     "output_type": "execute_result"
    }
   ],
   "source": [
    "network.fit(train_images,train_labels,epochs=10, batch_size = 128)"
   ]
  },
  {
   "cell_type": "code",
   "execution_count": 15,
   "metadata": {},
   "outputs": [
    {
     "name": "stdout",
     "output_type": "stream",
     "text": [
      "10000/10000 [==============================] - 0s 24us/step\n"
     ]
    }
   ],
   "source": [
    "test_loss, test_acc, test_mae  = network.evaluate(test_images, test_labels)"
   ]
  },
  {
   "cell_type": "code",
   "execution_count": 16,
   "metadata": {},
   "outputs": [
    {
     "data": {
      "text/plain": [
       "'test_loss: 0.08487  test_acc: 0.97460 test_mae: 0.00768 '"
      ]
     },
     "execution_count": 16,
     "metadata": {},
     "output_type": "execute_result"
    }
   ],
   "source": [
    "'test_loss: {:.5f}  test_acc: {:.5f} test_mae: {:.5f} '.format(test_loss,test_acc,test_mae)"
   ]
  },
  {
   "cell_type": "markdown",
   "metadata": {},
   "source": [
    "# 2.2 Tensor\n",
    "---------\n",
    "* 신경망을 위한 데이터 표현 텐서(Tensor)\n",
    "   * numpy 배열에 데이터를 저장에서 부터 시작\n",
    "      * 축의 개수 (rank) \n",
    "      * 크기 (shape)\n",
    "      * 타입 (dtype)\n",
    "         * dimension 을  axis로 표현\n",
    "         * ndim : 축의 개수 | Rank\n",
    "         * scalar : 0D 텐서\n",
    "         * vector : 1D 텐서\n",
    "         * matrix : 2D 텐서\n"
   ]
  },
  {
   "cell_type": "code",
   "execution_count": 17,
   "metadata": {},
   "outputs": [
    {
     "data": {
      "text/plain": [
       "numpy.ndarray"
      ]
     },
     "execution_count": 17,
     "metadata": {},
     "output_type": "execute_result"
    }
   ],
   "source": [
    "x = np.array(10)\n",
    "type(x)\n"
   ]
  },
  {
   "cell_type": "code",
   "execution_count": 18,
   "metadata": {},
   "outputs": [
    {
     "data": {
      "text/plain": [
       "array(10)"
      ]
     },
     "execution_count": 18,
     "metadata": {},
     "output_type": "execute_result"
    }
   ],
   "source": [
    "x"
   ]
  },
  {
   "cell_type": "code",
   "execution_count": 19,
   "metadata": {},
   "outputs": [
    {
     "data": {
      "text/plain": [
       "0"
      ]
     },
     "execution_count": 19,
     "metadata": {},
     "output_type": "execute_result"
    }
   ],
   "source": [
    "x.ndim"
   ]
  },
  {
   "cell_type": "code",
   "execution_count": 20,
   "metadata": {},
   "outputs": [
    {
     "data": {
      "text/plain": [
       "1"
      ]
     },
     "execution_count": 20,
     "metadata": {},
     "output_type": "execute_result"
    }
   ],
   "source": [
    "x = np.array([10,13])\n",
    "x.ndim"
   ]
  },
  {
   "cell_type": "code",
   "execution_count": 21,
   "metadata": {},
   "outputs": [
    {
     "data": {
      "text/plain": [
       "2"
      ]
     },
     "execution_count": 21,
     "metadata": {},
     "output_type": "execute_result"
    }
   ],
   "source": [
    "x = np.array([np.arange(10,13),np.arange(13,16)])\n",
    "x.ndim"
   ]
  },
  {
   "cell_type": "code",
   "execution_count": 22,
   "metadata": {},
   "outputs": [
    {
     "data": {
      "text/plain": [
       "array([[10, 11, 12],\n",
       "       [13, 14, 15]])"
      ]
     },
     "execution_count": 22,
     "metadata": {},
     "output_type": "execute_result"
    }
   ],
   "source": [
    "x"
   ]
  },
  {
   "cell_type": "code",
   "execution_count": 23,
   "metadata": {},
   "outputs": [
    {
     "data": {
      "text/plain": [
       "3"
      ]
     },
     "execution_count": 23,
     "metadata": {},
     "output_type": "execute_result"
    }
   ],
   "source": [
    "x = np.stack([np.vstack([x,x]),np.vstack([x,x])])\n",
    "np.ndim(x)"
   ]
  },
  {
   "cell_type": "code",
   "execution_count": 24,
   "metadata": {},
   "outputs": [
    {
     "data": {
      "text/plain": [
       "array([[[10, 11, 12],\n",
       "        [13, 14, 15],\n",
       "        [10, 11, 12],\n",
       "        [13, 14, 15]],\n",
       "\n",
       "       [[10, 11, 12],\n",
       "        [13, 14, 15],\n",
       "        [10, 11, 12],\n",
       "        [13, 14, 15]]])"
      ]
     },
     "execution_count": 24,
     "metadata": {},
     "output_type": "execute_result"
    }
   ],
   "source": [
    "x"
   ]
  },
  {
   "cell_type": "code",
   "execution_count": 25,
   "metadata": {},
   "outputs": [
    {
     "data": {
      "text/plain": [
       "dtype('uint8')"
      ]
     },
     "execution_count": 25,
     "metadata": {},
     "output_type": "execute_result"
    }
   ],
   "source": [
    "x_train.dtype"
   ]
  },
  {
   "cell_type": "markdown",
   "metadata": {},
   "source": [
    "###  시각화\n",
    "--------"
   ]
  },
  {
   "cell_type": "code",
   "execution_count": 26,
   "metadata": {},
   "outputs": [],
   "source": [
    "digit = x_train[4]"
   ]
  },
  {
   "cell_type": "code",
   "execution_count": 27,
   "metadata": {},
   "outputs": [
    {
     "data": {
      "text/plain": [
       "<matplotlib.figure.Figure at 0x1ce85d807b8>"
      ]
     },
     "metadata": {},
     "output_type": "display_data"
    }
   ],
   "source": [
    "import matplotlib.pyplot as plt\n",
    "plt.imshow(digit, cmap=plt.cm.binary)\n",
    "plt.show()"
   ]
  },
  {
   "cell_type": "code",
   "execution_count": 28,
   "metadata": {},
   "outputs": [
    {
     "data": {
      "text/plain": [
       "<matplotlib.image.AxesImage at 0x1ce804b9c88>"
      ]
     },
     "execution_count": 28,
     "metadata": {},
     "output_type": "execute_result"
    },
    {
     "data": {
      "image/png": "[encoded data removed]",
      "text/plain": [
       "<matplotlib.figure.Figure at 0x1ce8565aef0>"
      ]
     },
     "metadata": {},
     "output_type": "display_data"
    }
   ],
   "source": [
    "import matplotlib.pyplot as plt\n",
    "plt.imshow(digit,cmap=plt.cm.bone)"
   ]
  },
  {
   "cell_type": "markdown",
   "metadata": {},
   "source": [
    "## 넘파이로 텐서 조작\n",
    "* 슬라이싱"
   ]
  },
  {
   "cell_type": "code",
   "execution_count": 29,
   "metadata": {},
   "outputs": [
    {
     "data": {
      "text/plain": [
       "(100, 28, 28)"
      ]
     },
     "execution_count": 29,
     "metadata": {},
     "output_type": "execute_result"
    }
   ],
   "source": [
    "my_slice = x_train[:100]\n",
    "my_slice.shape"
   ]
  },
  {
   "cell_type": "markdown",
   "metadata": {},
   "source": [
    "* 14X14 슬라이싱 - 왼쪽 위"
   ]
  },
  {
   "cell_type": "code",
   "execution_count": 30,
   "metadata": {},
   "outputs": [
    {
     "name": "stdout",
     "output_type": "stream",
     "text": [
      "(100, 14, 14)\n"
     ]
    }
   ],
   "source": [
    "print(x_train[:100,:14,:14].shape)"
   ]
  },
  {
   "cell_type": "markdown",
   "metadata": {},
   "source": [
    "* 14X14 슬라이싱 - 정중앙\n",
    "   * 7에서 부터 -7까지"
   ]
  },
  {
   "cell_type": "code",
   "execution_count": 31,
   "metadata": {},
   "outputs": [
    {
     "data": {
      "text/plain": [
       "(100, 14, 14)"
      ]
     },
     "execution_count": 31,
     "metadata": {},
     "output_type": "execute_result"
    }
   ],
   "source": [
    "x_train[:100,7:-7,7:-7].shape"
   ]
  },
  {
   "cell_type": "code",
   "execution_count": 32,
   "metadata": {},
   "outputs": [
    {
     "data": {
      "text/plain": [
       "array([[10, 11, 12],\n",
       "       [13, 14, 15],\n",
       "       [10, 11, 12],\n",
       "       [13, 14, 15]])"
      ]
     },
     "execution_count": 32,
     "metadata": {},
     "output_type": "execute_result"
    }
   ],
   "source": [
    "x.shape\n",
    "x[0,]"
   ]
  },
  {
   "cell_type": "code",
   "execution_count": 33,
   "metadata": {},
   "outputs": [
    {
     "data": {
      "text/plain": [
       "array([[10, 11, 12],\n",
       "       [13, 14, 15],\n",
       "       [10, 11, 12]])"
      ]
     },
     "execution_count": 33,
     "metadata": {},
     "output_type": "execute_result"
    }
   ],
   "source": [
    "x[0,0:-1]"
   ]
  },
  {
   "cell_type": "code",
   "execution_count": 34,
   "metadata": {},
   "outputs": [
    {
     "data": {
      "text/plain": [
       "array([[13, 14],\n",
       "       [10, 11]])"
      ]
     },
     "execution_count": 34,
     "metadata": {},
     "output_type": "execute_result"
    }
   ],
   "source": [
    "x[0,1:-1,0:-1]"
   ]
  },
  {
   "cell_type": "markdown",
   "metadata": {},
   "source": [
    "## 텐서 연산\n",
    "* element-wise operation : 벡터 곱\n",
    "   * numpy는 기본 선형대수를 구현함 \n",
    "       * 매우 효율적 : C, Fortran"
   ]
  },
  {
   "cell_type": "code",
   "execution_count": 36,
   "metadata": {},
   "outputs": [],
   "source": [
    "import keras"
   ]
  },
  {
   "cell_type": "code",
   "execution_count": 38,
   "metadata": {},
   "outputs": [
    {
     "data": {
      "text/plain": [
       "2"
      ]
     },
     "execution_count": 38,
     "metadata": {},
     "output_type": "execute_result"
    }
   ],
   "source": [
    "def relu(x):\n",
    "    return max(x,0)\n",
    "relu(2)"
   ]
  },
  {
   "cell_type": "code",
   "execution_count": 42,
   "metadata": {},
   "outputs": [],
   "source": [
    "def naive_relu(x): # 2D tensor\n",
    "    assert len(x.shape) == 2 ## 참이면 프로그램 계속 실행 , 거짓이면 중단\n",
    "    \n",
    "    x = x.copy()\n",
    "    \n",
    "    for i in range(x.shape[0]):\n",
    "        for j in range(x.shape[1]):\n",
    "            x[i, j]= max(x[i,j],0)\n",
    "            \n",
    "    return x"
   ]
  },
  {
   "cell_type": "code",
   "execution_count": 44,
   "metadata": {},
   "outputs": [],
   "source": [
    "def naive_add(x, y):\n",
    "    assert len(x.shape) == 2\n",
    "    assert x.shape == y.shape\n",
    "        \n",
    "    x = x.copy()\n",
    "    \n",
    "    for i in range(x.shape[0]):\n",
    "        for j in range(x.shape[1]):\n",
    "            x[i, j] += y[i, j]\n",
    "    return x"
   ]
  },
  {
   "cell_type": "code",
   "execution_count": 45,
   "metadata": {},
   "outputs": [],
   "source": [
    "def naive_add_matrix_and_vector(x,y):\n",
    "    assert len(x.shape) == 2\n",
    "    assert len(y.shape) == 1\n",
    "    \n",
    "    assert x.shape[1] == y.shape[0]\n",
    "    \n",
    "\n",
    "    x = x.copy()\n",
    "    \n",
    "    for i in range(x.shape[0]):\n",
    "        for j in range(x.shape[1]):\n",
    "            x[i, j] += y[j]\n",
    "    return x"
   ]
  },
  {
   "cell_type": "code",
   "execution_count": 50,
   "metadata": {},
   "outputs": [],
   "source": [
    "import numpy as np\n",
    "\n",
    "x = np.random.random((64,3,32,10))\n",
    "y = np.random.random((32, 10))"
   ]
  },
  {
   "cell_type": "code",
   "execution_count": 52,
   "metadata": {},
   "outputs": [],
   "source": [
    "z = np.maximum(x,y)"
   ]
  },
  {
   "cell_type": "code",
   "execution_count": 69,
   "metadata": {},
   "outputs": [
    {
     "name": "stdout",
     "output_type": "stream",
     "text": [
      "[[0.01679119 0.44800468 0.18375292 0.67329868 0.66753853 0.00214865\n",
      "  0.90894655 0.00891154 0.78002402 0.11648284]\n",
      " [0.72795288 0.48814889 0.42834584 0.41405708 0.2306869  0.26896058\n",
      "  0.93810942 0.74064947 0.59048654 0.36506636]\n",
      " [0.9821005  0.78653557 0.71995638 0.1532624  0.87656033 0.14564953\n",
      "  0.78616681 0.93789326 0.81697296 0.19152877]\n",
      " [0.241725   0.4555305  0.1248715  0.39296499 0.14221636 0.8480205\n",
      "  0.65722064 0.93192691 0.17760069 0.50816643]\n",
      " [0.81827868 0.80645292 0.16818633 0.64306776 0.7119059  0.23959473\n",
      "  0.56772315 0.68911998 0.28104781 0.00530768]\n",
      " [0.67371823 0.2490989  0.14045262 0.683299   0.52347688 0.33242839\n",
      " [0.61280986 0.89506814 0.43687891 0.82688269 0.66606153 0.69342805\n",
      "  0.58235102 0.67949105 0.15818529 0.82666406]\n",
      " [0.39254764 0.18759805 0.68237951 0.8903173  0.78166169 0.90779151\n",
      "  0.7335079  0.63239118 0.25070613 0.45247045]\n",
      " [0.78656999 0.61670147 0.76442561 0.42174066 0.38289831 0.75049175\n",
      "  0.24079094 0.99289774 0.61005494 0.25413978]\n",
      " [0.88534771 0.74015711 0.75795898 0.9420485  0.90624937 0.47024068\n",
      "  0.54232547 0.76858083 0.90545396 0.90991921]\n",
      " [0.49336362 0.28376496 0.8981396  0.54545715 0.18542886 0.63662518\n",
      "  0.52804068 0.01164368 0.76235779 0.82832738]\n",
      " [0.43079624 0.55975544 0.63809187 0.68690797 0.75862802 0.47595569\n",
      "  0.45399042 0.89557443 0.3351541  0.91925965]\n",
      " [0.81692257 0.55069202 0.53087285 0.34500575 0.53803513 0.9030532\n",
      "  0.15464583 0.69519034 0.58016598 0.64390831]\n",
      " [0.90130617 0.64536974 0.93105761 0.65835834 0.29246033 0.80346296\n",
      "  0.69970999 0.2013332  0.95808934 0.46948794]\n",
      " [0.13353492 0.6915885  0.61328224 0.41532136 0.45360278 0.82208488\n",
      "  0.35746578 0.46634654 0.43748101 0.83182039]\n",
      " [0.81134053 0.95822857 0.82808687 0.82815918 0.42725837 0.5795933\n",
      "  0.79471414 0.80802842 0.57276143 0.26742154]]\n"
     ]
    }
   ],
   "source": [
    "z.shape\n",
    "print(x[0,0,:,:])\n",
    "print(y[0,:])\n",
    "print(z[0,0,:,:])"
   ]
  },
  {
   "cell_type": "markdown",
   "metadata": {},
   "source": [
    "## 텐서 곱(Dot Product)\n",
    "* dot product : *\n",
    "   * 텐서프로우 : tf.matmul\n",
    "   * 케라스 : keras import as K ; K.dot(x,y)"
   ]
  },
  {
   "cell_type": "code",
   "execution_count": 71,
   "metadata": {},
   "outputs": [
    {
     "ename": "ValueError",
     "evalue": "shapes (64,3,32,10) and (32,10) not aligned: 10 (dim 3) != 32 (dim 0)",
     "output_type": "error",
     "traceback": [
      "\u001b[1;31m---------------------------------------------------------------------------\u001b[0m",
      "\u001b[1;31mValueError\u001b[0m                                Traceback (most recent call last)",
      "\u001b[1;32m<ipython-input-71-50c7fd09336f>\u001b[0m in \u001b[0;36m<module>\u001b[1;34m()\u001b[0m\n\u001b[1;32m----> 1\u001b[1;33m \u001b[0mz\u001b[0m \u001b[1;33m=\u001b[0m \u001b[0mnp\u001b[0m\u001b[1;33m.\u001b[0m\u001b[0mdot\u001b[0m\u001b[1;33m(\u001b[0m\u001b[0mx\u001b[0m\u001b[1;33m,\u001b[0m\u001b[0my\u001b[0m\u001b[1;33m)\u001b[0m\u001b[1;33m\u001b[0m\u001b[0m\n\u001b[0m",
      "\u001b[1;31mValueError\u001b[0m: shapes (64,3,32,10) and (32,10) not aligned: 10 (dim 3) != 32 (dim 0)"
     ]
    }
   ],
   "source": [
    "z = np.dot(x,y)"
   ]
  },
  {
   "cell_type": "code",
   "execution_count": 58,
   "metadata": {},
   "outputs": [
    {
     "data": {
      "text/plain": [
       "array([[[[1.57242967e-02, 1.51475504e-01, 3.32335623e-02, ...,\n",
       "          7.64548014e-03, 1.88967280e-01, 1.82031101e-02],\n",
       "         [6.74894233e-01, 2.15254710e-01, 2.21853811e-03, ...,\n",
       "          6.88646010e-01, 5.90813608e-02, 1.17070477e-02],\n",
       "         [5.83444416e-01, 2.45930397e-01, 4.42086395e-01, ...,\n",
       "          5.38590254e-01, 7.66793493e-01, 1.41307184e-01],\n",
       "         ...,\n",
       "         [4.58995340e-01, 1.83388559e-01, 7.20577628e-01, ...,\n",
       "          2.75235708e-02, 3.67518794e-01, 6.70989698e-02],\n",
       "         [8.82436476e-03, 3.58062082e-01, 3.34291299e-01, ...,\n",
       "          8.64824672e-02, 5.34375062e-04, 2.74703218e-01],\n",
       "         [3.03885207e-02, 1.22846105e-01, 6.79124495e-01, ...,\n",
       "          1.99713140e-01, 2.34194655e-01, 1.24683665e-02]],\n",
       "\n",
       "        [[8.48330758e-01, 2.86435189e-01, 1.61149603e-01, ...,\n",
       "          7.75719798e-01, 2.05278798e-01, 6.69312043e-02],\n",
       "         [3.61863388e-01, 4.03859870e-01, 3.55263881e-03, ...,\n",
       "          1.68253307e-01, 5.37393558e-02, 2.74967749e-02],\n",
       "         [3.90570294e-01, 4.77380830e-02, 2.80858695e-01, ...,\n",
       "          2.12343034e-01, 3.09289975e-01, 4.36837030e-01],\n",
       "         ...,\n",
       "         [3.39370972e-01, 1.82776442e-01, 1.25714729e-01, ...,\n",
       "          4.17310589e-02, 8.24018488e-01, 3.50791728e-02],\n",
       "         [9.61717675e-02, 4.96109900e-01, 1.29821070e-01, ...,\n",
       "          3.43484298e-02, 2.04187184e-01, 6.38530303e-01],\n",
       "         [2.30014866e-02, 8.62278216e-01, 3.42378104e-01, ...,\n",
       "          1.68417848e-01, 9.79842694e-02, 4.48097409e-02]],\n",
       "\n",
       "\n",
       "       [[[5.54568290e-01, 2.82084861e-01, 1.33472867e-01, ...,\n",
       "          4.58387873e-01, 9.04122373e-02, 1.22881970e-01],\n",
       "         [7.76105746e-01, 1.64567826e-01, 4.72902656e-03, ...,\n",
       "          8.23779755e-02, 9.87516394e-02, 7.69790790e-03],\n",
       "         [1.78438697e-02, 3.10612636e-01, 3.71353299e-01, ...,\n",
       "          4.66386652e-01, 9.06877891e-01, 3.75011775e-01],\n",
       "         ...,\n",
       "         [8.51678971e-01, 1.76573298e-01, 2.82799320e-01, ...,\n",
       "          8.35485973e-02, 5.71400585e-01, 9.98161698e-02],\n",
       "         [3.02380237e-02, 4.51900761e-01, 1.32572066e-01, ...,\n",
       "          1.32558844e-01, 2.45851834e-01, 5.43343291e-01],\n",
       "         [2.57001739e-02, 2.54379086e-01, 1.43983196e-01, ...,\n",
       "          2.33738142e-01, 4.69015585e-02, 3.56327762e-02]],\n",
       "        [[7.37249225e-01, 2.09036906e-01, 4.58628661e-02, ...,\n",
       "          2.52585101e-01, 4.95862305e-03, 8.26076239e-02],\n",
       "         [3.20211740e-01, 1.33718232e-01, 2.09824050e-03, ...,\n",
       "          2.26738322e-02, 2.39446689e-02, 3.12153814e-02],\n",
       "         [7.53120190e-02, 9.05965926e-02, 4.70773764e-01, ...,\n",
       "          4.07894399e-01, 3.22485279e-01, 3.10939758e-01],\n",
       "         ...,\n",
       "         [1.06941697e-01, 1.56438445e-01, 1.66264434e-01, ...,\n",
       "          5.60938377e-02, 1.08366190e-01, 1.18597929e-01],\n",
       "         [4.68243672e-02, 4.82000090e-01, 4.16262762e-01, ...,\n",
       "          1.98138916e-01, 4.17001068e-01, 3.98277731e-02],\n",
       "         [1.78894422e-02, 1.69164350e-01, 2.18827221e-02, ...,\n",
       "          8.68221946e-02, 2.52927111e-01, 2.79253299e-02]]]])"
      ]
     },
     "execution_count": 58,
     "metadata": {},
     "output_type": "execute_result"
    }
   ],
   "source": [
    "x * y"
   ]
  },
  {
   "cell_type": "code",
   "execution_count": 72,
   "metadata": {},
   "outputs": [],
   "source": [
    "def naive_vector_dot(x,y):\n",
    "    assert len(x.shape) == 1\n",
    "    assert len(y.shape) == 1\n",
    "    assert x.shape[0] == y.shape[0]  \n",
    "    \n",
    "    z = 0.\n",
    "    for i in range(x.shape[0]):\n",
    "        z += x[i] * y[i]\n",
    "    return z"
   ]
  },
  {
   "cell_type": "code",
   "execution_count": 73,
   "metadata": {},
   "outputs": [],
   "source": [
    "def naive_add_matrix_and_vector(x,y):\n",
    "    assert len(x.shape) == 2\n",
    "    assert len(y.shape) == 1\n",
    "    \n",
    "    assert x.shape[1] == y.shape[0]\n",
    "    \n",
    "    z = np.zeros(x.shape[0])    \n",
    "    for i in range(x.shape[0]):\n",
    "        for j in range(x.shape[1]):\n",
    "            z[i] += x[i, j] * y[j]\n",
    "    return z"
   ]
  },
  {
   "cell_type": "code",
   "execution_count": 74,
   "metadata": {},
   "outputs": [],
   "source": [
    "train_images = train_images.reshape((60000, 28*28))"
   ]
  },
  {
   "cell_type": "code",
   "execution_count": 77,
   "metadata": {},
   "outputs": [
    {
     "data": {
      "text/plain": [
       "array([[0., 1.],\n",
       "       [2., 3.],\n",
       "       [4., 5.]])"
      ]
     },
     "execution_count": 77,
     "metadata": {},
     "output_type": "execute_result"
    }
   ],
   "source": [
    "x = np.array([[0.,1.],[2.,3.],[4.,5.]])\n",
    "x"
   ]
  },
  {
   "cell_type": "code",
   "execution_count": 78,
   "metadata": {},
   "outputs": [
    {
     "data": {
      "text/plain": [
       "(3, 2)"
      ]
     },
     "execution_count": 78,
     "metadata": {},
     "output_type": "execute_result"
    }
   ],
   "source": [
    "x.shape"
   ]
  },
  {
   "cell_type": "code",
   "execution_count": 82,
   "metadata": {},
   "outputs": [
    {
     "data": {
      "text/plain": [
       "array([[0.],\n",
       "       [1.],\n",
       "       [2.],\n",
       "       [3.],\n",
       "       [4.],\n",
       "       [5.]])"
      ]
     },
     "execution_count": 82,
     "metadata": {},
     "output_type": "execute_result"
    }
   ],
   "source": [
    "x.reshape(6,1)"
   ]
  },
  {
   "cell_type": "code",
   "execution_count": 84,
   "metadata": {},
   "outputs": [
    {
     "data": {
      "text/plain": [
       "array([[0., 1., 2.],\n",
       "       [3., 4., 5.]])"
      ]
     },
     "execution_count": 84,
     "metadata": {},
     "output_type": "execute_result"
    }
   ],
   "source": [
    "x.reshape(2,3)"
   ]
  },
  {
   "cell_type": "code",
   "execution_count": 86,
   "metadata": {},
   "outputs": [
    {
     "data": {
      "text/plain": [
       "array([[0., 2., 4.],\n",
       "       [1., 3., 5.]])"
      ]
     },
     "execution_count": 86,
     "metadata": {},
     "output_type": "execute_result"
    }
   ],
   "source": [
    "x.T\n"
   ]
  },
  {
   "cell_type": "code",
   "execution_count": 89,
   "metadata": {},
   "outputs": [
    {
     "data": {
      "text/plain": [
       "1.0"
      ]
     },
     "execution_count": 89,
     "metadata": {},
     "output_type": "execute_result"
    }
   ],
   "source": [
    "train_images.max()"
   ]
  },
  {
   "cell_type": "code",
   "execution_count": 93,
   "metadata": {},
   "outputs": [],
   "source": [
    "network = models.Sequential()\n",
    "network.add(layers.Dense(512,activation='relu',input_shape=(28*28,)))\n",
    "network.add(layers.Dense(10,activation='softmax'))\n",
    "            \n",
    "network.compile(optimizer='rmsprop',loss='categorical_crossentropy',metrics=['acc']) # 엮다, 편집하다"
   ]
  },
  {
   "cell_type": "code",
   "execution_count": 96,
   "metadata": {},
   "outputs": [
    {
     "name": "stdout",
     "output_type": "stream",
     "text": [
      "Epoch 1/5\n",
      "60000/60000 [==============================] - 3s 53us/step - loss: 0.2548 - acc: 0.9264\n",
      "Epoch 2/5\n",
      "60000/60000 [==============================] - 3s 51us/step - loss: 0.1014 - acc: 0.9700\n",
      "Epoch 3/5\n",
      "60000/60000 [==============================] - 3s 49us/step - loss: 0.0669 - acc: 0.9798\n",
      "Epoch 4/5\n",
      "60000/60000 [==============================] - 3s 51us/step - loss: 0.0492 - acc: 0.9853\n",
      "Epoch 5/5\n",
      "60000/60000 [==============================] - 3s 49us/step - loss: 0.0373 - acc: 0.9888\n"
     ]
    },
    {
     "data": {
      "text/plain": [
       "<keras.callbacks.History at 0x1ce91c915c0>"
      ]
     },
     "execution_count": 96,
     "metadata": {},
     "output_type": "execute_result"
    }
   ],
   "source": [
    "network.fit(train_images,train_labels,epochs=5,batch_size= 128)"
   ]
  },
  {
   "cell_type": "code",
   "execution_count": null,
   "metadata": {},
   "outputs": [],
   "source": []
  }
 ],
 "metadata": {
  "kernelspec": {
   "display_name": "Python 3",
   "language": "python",
   "name": "python3"
  },
  "language_info": {
   "codemirror_mode": {
    "name": "ipython",
    "version": 3
   },
   "file_extension": ".py",
   "mimetype": "text/x-python",
   "name": "python",
   "nbconvert_exporter": "python",
   "pygments_lexer": "ipython3",
   "version": "3.6.4"
  }
 },
 "nbformat": 4,
 "nbformat_minor": 2
}
